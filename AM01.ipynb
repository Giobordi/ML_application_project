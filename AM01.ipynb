{
 "cells": [
  {
   "cell_type": "code",
   "id": "initial_id",
   "metadata": {
    "collapsed": true,
    "ExecuteTime": {
     "end_time": "2024-06-19T21:34:57.762891Z",
     "start_time": "2024-06-19T21:34:54.972818Z"
    }
   },
   "source": [
    "from time import time\n",
    "import numpy as np\n",
    "import matplotlib.pyplot as plt\n",
    "import pandas as pd\n",
    "import seaborn as sns\n",
    "import os\n",
    "import tensorflow as tf\n",
    "from debugpy.common.log import log_dir\n",
    "from sklearn.metrics import accuracy_score, precision_score, recall_score, f1_score"
   ],
   "outputs": [],
   "execution_count": 1
  },
  {
   "metadata": {
    "ExecuteTime": {
     "end_time": "2024-06-19T21:34:57.766898Z",
     "start_time": "2024-06-19T21:34:57.764881Z"
    }
   },
   "cell_type": "code",
   "source": [
    "WINDOW_SIZE = 10\n",
    "WINDOW_STEP_SIZE = 1    # WINDOW_SIZE // 3\n",
    "EPOCHS = 30\n",
    "STEPS_PER_EPOCH = 100\n",
    "LEARNING_RATE = 1e-3"
   ],
   "id": "b24a482d8cbe575d",
   "outputs": [],
   "execution_count": 2
  },
  {
   "metadata": {
    "ExecuteTime": {
     "end_time": "2024-06-19T21:34:57.772447Z",
     "start_time": "2024-06-19T21:34:57.767770Z"
    }
   },
   "cell_type": "code",
   "source": [
    "ROOTDIR_DATASET = './KukaVelocityDataset'\n",
    "kuka_column_names_path = os.path.join(ROOTDIR_DATASET, 'KukaColumnNames.npy')\n",
    "kuka_column_names = np.load(kuka_column_names_path)\n",
    "kuka_column_names.reshape((1, -1))"
   ],
   "id": "23e0848caf6dd8d9",
   "outputs": [
    {
     "data": {
      "text/plain": [
       "array([['action', 'machine_nameKuka Robot_apparent_power',\n",
       "        'machine_nameKuka Robot_current',\n",
       "        'machine_nameKuka Robot_frequency',\n",
       "        'machine_nameKuka Robot_phase_angle',\n",
       "        'machine_nameKuka Robot_power',\n",
       "        'machine_nameKuka Robot_power_factor',\n",
       "        'machine_nameKuka Robot_reactive_power',\n",
       "        'machine_nameKuka Robot_voltage', 'sensor_id1_AccX',\n",
       "        'sensor_id1_AccY', 'sensor_id1_AccZ', 'sensor_id1_GyroX',\n",
       "        'sensor_id1_GyroY', 'sensor_id1_GyroZ', 'sensor_id1_q1',\n",
       "        'sensor_id1_q2', 'sensor_id1_q3', 'sensor_id1_q4',\n",
       "        'sensor_id1_temp', 'sensor_id2_AccX', 'sensor_id2_AccY',\n",
       "        'sensor_id2_AccZ', 'sensor_id2_GyroX', 'sensor_id2_GyroY',\n",
       "        'sensor_id2_GyroZ', 'sensor_id2_q1', 'sensor_id2_q2',\n",
       "        'sensor_id2_q3', 'sensor_id2_q4', 'sensor_id2_temp',\n",
       "        'sensor_id3_AccX', 'sensor_id3_AccY', 'sensor_id3_AccZ',\n",
       "        'sensor_id3_GyroX', 'sensor_id3_GyroY', 'sensor_id3_GyroZ',\n",
       "        'sensor_id3_q1', 'sensor_id3_q2', 'sensor_id3_q3',\n",
       "        'sensor_id3_q4', 'sensor_id3_temp', 'sensor_id4_AccX',\n",
       "        'sensor_id4_AccY', 'sensor_id4_AccZ', 'sensor_id4_GyroX',\n",
       "        'sensor_id4_GyroY', 'sensor_id4_GyroZ', 'sensor_id4_q1',\n",
       "        'sensor_id4_q2', 'sensor_id4_q3', 'sensor_id4_q4',\n",
       "        'sensor_id4_temp', 'sensor_id5_AccX', 'sensor_id5_AccY',\n",
       "        'sensor_id5_AccZ', 'sensor_id5_GyroX', 'sensor_id5_GyroY',\n",
       "        'sensor_id5_GyroZ', 'sensor_id5_q1', 'sensor_id5_q2',\n",
       "        'sensor_id5_q3', 'sensor_id5_q4', 'sensor_id5_temp',\n",
       "        'sensor_id6_AccX', 'sensor_id6_AccY', 'sensor_id6_AccZ',\n",
       "        'sensor_id6_GyroX', 'sensor_id6_GyroY', 'sensor_id6_GyroZ',\n",
       "        'sensor_id6_q1', 'sensor_id6_q2', 'sensor_id6_q3',\n",
       "        'sensor_id6_q4', 'sensor_id6_temp', 'sensor_id7_AccX',\n",
       "        'sensor_id7_AccY', 'sensor_id7_AccZ', 'sensor_id7_GyroX',\n",
       "        'sensor_id7_GyroY', 'sensor_id7_GyroZ', 'sensor_id7_q1',\n",
       "        'sensor_id7_q2', 'sensor_id7_q3', 'sensor_id7_q4',\n",
       "        'sensor_id7_temp', 'anomaly']], dtype='<U37')"
      ]
     },
     "execution_count": 3,
     "metadata": {},
     "output_type": "execute_result"
    }
   ],
   "execution_count": 3
  },
  {
   "metadata": {
    "ExecuteTime": {
     "end_time": "2024-06-19T21:35:04.335042Z",
     "start_time": "2024-06-19T21:34:57.773214Z"
    }
   },
   "cell_type": "code",
   "source": [
    "kuka_normal_path = os.path.join(ROOTDIR_DATASET, 'KukaNormal.npy')\n",
    "kuka_normal = np.load(kuka_normal_path)\n",
    "kuka_normal = np.hstack((kuka_normal, np.zeros(kuka_normal.shape[0]).reshape(-1, 1) ))\n",
    "kuka_normal = kuka_normal.astype('float32')\n",
    "kuka_normal = (kuka_normal - np.min(kuka_normal)) / (np.max(kuka_normal) - np.min(kuka_normal))\n",
    "\n",
    "kuka_normal = np.vstack((kuka_column_names, kuka_normal))\n",
    "df_kuka_normal = pd.DataFrame(kuka_normal)\n",
    "df_kuka_normal.columns = df_kuka_normal.iloc[0]\n",
    "df_kuka_normal = df_kuka_normal.iloc[1:]\n",
    "\n",
    "df_kuka_normal.drop(\"anomaly\", axis=1, inplace=True)\n",
    "df_kuka_normal = df_kuka_normal.reset_index(drop=True)\n",
    "# df_kuka_normal['machine_nameKuka Robot_time'] = df_kuka_normal.index.astype(float) /  df_kuka_normal['machine_nameKuka Robot_frequency'].astype(float)\n",
    "\n",
    "df_kuka_normal"
   ],
   "id": "cfd1c419cdee026",
   "outputs": [
    {
     "data": {
      "text/plain": [
       "0          action machine_nameKuka Robot_apparent_power  \\\n",
       "0       0.5000458                            0.54084253   \n",
       "1       0.5000458                            0.54084253   \n",
       "2       0.5000458                            0.54084253   \n",
       "3       0.5000458                            0.54084253   \n",
       "4       0.5000458                            0.54084253   \n",
       "...           ...                                   ...   \n",
       "233787  0.5000458                             0.5401675   \n",
       "233788  0.5000458                             0.5401675   \n",
       "233789  0.5000458                             0.5401675   \n",
       "233790  0.5000458                             0.5401675   \n",
       "233791  0.5000458                             0.5401675   \n",
       "\n",
       "0      machine_nameKuka Robot_current machine_nameKuka Robot_frequency  \\\n",
       "0                          0.50029004                        0.5125477   \n",
       "1                          0.50029004                        0.5125477   \n",
       "2                          0.50029004                        0.5125477   \n",
       "3                          0.50029004                        0.5125477   \n",
       "4                          0.50029004                        0.5125477   \n",
       "...                               ...                              ...   \n",
       "233787                      0.5002942                        0.5125477   \n",
       "233788                      0.5002942                        0.5125477   \n",
       "233789                      0.5002942                        0.5125477   \n",
       "233790                      0.5002942                        0.5125477   \n",
       "233791                      0.5002942                        0.5125477   \n",
       "\n",
       "0      machine_nameKuka Robot_phase_angle machine_nameKuka Robot_power  \\\n",
       "0                               0.5802353                   0.53162146   \n",
       "1                               0.5802353                   0.53162146   \n",
       "2                               0.5802353                   0.53162146   \n",
       "3                               0.5802353                   0.53162146   \n",
       "4                               0.5802353                   0.53162146   \n",
       "...                                   ...                          ...   \n",
       "233787                          0.5804533                   0.53148186   \n",
       "233788                          0.5804533                   0.53148186   \n",
       "233789                          0.5804533                   0.53148186   \n",
       "233790                          0.5804533                   0.53148186   \n",
       "233791                          0.5804533                   0.53148186   \n",
       "\n",
       "0      machine_nameKuka Robot_power_factor  \\\n",
       "0                                0.5002393   \n",
       "1                                0.5002393   \n",
       "2                                0.5002393   \n",
       "3                                0.5002393   \n",
       "4                                0.5002393   \n",
       "...                                    ...   \n",
       "233787                           0.5002417   \n",
       "233788                           0.5002417   \n",
       "233789                           0.5002417   \n",
       "233790                           0.5002417   \n",
       "233791                           0.5002417   \n",
       "\n",
       "0      machine_nameKuka Robot_reactive_power machine_nameKuka Robot_voltage  \\\n",
       "0                                 0.47421497                      0.5571351   \n",
       "1                                 0.47421497                      0.5571351   \n",
       "2                                 0.47421497                      0.5571351   \n",
       "3                                 0.47421497                      0.5571351   \n",
       "4                                 0.47421497                      0.5571351   \n",
       "...                                      ...                            ...   \n",
       "233787                             0.4751176                     0.55781376   \n",
       "233788                             0.4751176                     0.55781376   \n",
       "233789                             0.4751176                     0.55781376   \n",
       "233790                             0.4751176                     0.55781376   \n",
       "233791                             0.4751176                     0.55781376   \n",
       "\n",
       "0      sensor_id1_AccX  ... sensor_id7_AccY sensor_id7_AccZ sensor_id7_GyroX  \\\n",
       "0           0.49987328  ...       0.5000448      0.50029606        0.5000458   \n",
       "1            0.4998734  ...       0.5000438       0.5002962        0.5000458   \n",
       "2           0.49987352  ...      0.50004494      0.50029594        0.5000458   \n",
       "3           0.49987328  ...       0.5000446       0.5002962        0.5000458   \n",
       "4           0.49987388  ...      0.50004435       0.5002956        0.5000458   \n",
       "...                ...  ...             ...             ...              ...   \n",
       "233787      0.49985716  ...       0.5000452      0.50029594        0.5000458   \n",
       "233788      0.49985802  ...      0.50004506      0.50029606        0.5000458   \n",
       "233789      0.49985716  ...      0.50004494       0.5002957        0.5000458   \n",
       "233790      0.49985507  ...       0.5000446       0.5002958        0.5000458   \n",
       "233791      0.49985886  ...       0.5000448       0.5002964        0.5000305   \n",
       "\n",
       "0      sensor_id7_GyroY sensor_id7_GyroZ sensor_id7_q1 sensor_id7_q2  \\\n",
       "0             0.5000458        0.5000458    0.50002486     0.5000856   \n",
       "1             0.5000458        0.5000458    0.50002486     0.5000856   \n",
       "2             0.5000458        0.5000458    0.50002486     0.5000856   \n",
       "3             0.5000458        0.5000458    0.50002486     0.5000856   \n",
       "4             0.5000458        0.5000458    0.50002486     0.5000856   \n",
       "...                 ...              ...           ...           ...   \n",
       "233787        0.5000458        0.5000458     0.5000026    0.50003374   \n",
       "233788        0.5000458        0.5000458     0.5000026    0.50003374   \n",
       "233789        0.5000458        0.5000458     0.5000026    0.50003374   \n",
       "233790       0.50006104        0.5000458    0.50000256    0.50003374   \n",
       "233791        0.5000458        0.5000458    0.50000256    0.50003374   \n",
       "\n",
       "0      sensor_id7_q3 sensor_id7_q4 sensor_id7_temp  \n",
       "0         0.49982718    0.50015855      0.54511267  \n",
       "1         0.49982718    0.50015855      0.54511267  \n",
       "2         0.49982718    0.50015855      0.54511267  \n",
       "3         0.49982718    0.50015855      0.54511267  \n",
       "4         0.49982718    0.50015855      0.54511267  \n",
       "...              ...           ...             ...  \n",
       "233787     0.5001087     0.5002836      0.54511267  \n",
       "233788     0.5001087     0.5002836      0.54511267  \n",
       "233789     0.5001087     0.5002836      0.54511267  \n",
       "233790     0.5001087     0.5002836      0.54511267  \n",
       "233791     0.5001087     0.5002836      0.54511267  \n",
       "\n",
       "[233792 rows x 86 columns]"
      ],
      "text/html": [
       "<div>\n",
       "<style scoped>\n",
       "    .dataframe tbody tr th:only-of-type {\n",
       "        vertical-align: middle;\n",
       "    }\n",
       "\n",
       "    .dataframe tbody tr th {\n",
       "        vertical-align: top;\n",
       "    }\n",
       "\n",
       "    .dataframe thead th {\n",
       "        text-align: right;\n",
       "    }\n",
       "</style>\n",
       "<table border=\"1\" class=\"dataframe\">\n",
       "  <thead>\n",
       "    <tr style=\"text-align: right;\">\n",
       "      <th></th>\n",
       "      <th>action</th>\n",
       "      <th>machine_nameKuka Robot_apparent_power</th>\n",
       "      <th>machine_nameKuka Robot_current</th>\n",
       "      <th>machine_nameKuka Robot_frequency</th>\n",
       "      <th>machine_nameKuka Robot_phase_angle</th>\n",
       "      <th>machine_nameKuka Robot_power</th>\n",
       "      <th>machine_nameKuka Robot_power_factor</th>\n",
       "      <th>machine_nameKuka Robot_reactive_power</th>\n",
       "      <th>machine_nameKuka Robot_voltage</th>\n",
       "      <th>sensor_id1_AccX</th>\n",
       "      <th>...</th>\n",
       "      <th>sensor_id7_AccY</th>\n",
       "      <th>sensor_id7_AccZ</th>\n",
       "      <th>sensor_id7_GyroX</th>\n",
       "      <th>sensor_id7_GyroY</th>\n",
       "      <th>sensor_id7_GyroZ</th>\n",
       "      <th>sensor_id7_q1</th>\n",
       "      <th>sensor_id7_q2</th>\n",
       "      <th>sensor_id7_q3</th>\n",
       "      <th>sensor_id7_q4</th>\n",
       "      <th>sensor_id7_temp</th>\n",
       "    </tr>\n",
       "  </thead>\n",
       "  <tbody>\n",
       "    <tr>\n",
       "      <th>0</th>\n",
       "      <td>0.5000458</td>\n",
       "      <td>0.54084253</td>\n",
       "      <td>0.50029004</td>\n",
       "      <td>0.5125477</td>\n",
       "      <td>0.5802353</td>\n",
       "      <td>0.53162146</td>\n",
       "      <td>0.5002393</td>\n",
       "      <td>0.47421497</td>\n",
       "      <td>0.5571351</td>\n",
       "      <td>0.49987328</td>\n",
       "      <td>...</td>\n",
       "      <td>0.5000448</td>\n",
       "      <td>0.50029606</td>\n",
       "      <td>0.5000458</td>\n",
       "      <td>0.5000458</td>\n",
       "      <td>0.5000458</td>\n",
       "      <td>0.50002486</td>\n",
       "      <td>0.5000856</td>\n",
       "      <td>0.49982718</td>\n",
       "      <td>0.50015855</td>\n",
       "      <td>0.54511267</td>\n",
       "    </tr>\n",
       "    <tr>\n",
       "      <th>1</th>\n",
       "      <td>0.5000458</td>\n",
       "      <td>0.54084253</td>\n",
       "      <td>0.50029004</td>\n",
       "      <td>0.5125477</td>\n",
       "      <td>0.5802353</td>\n",
       "      <td>0.53162146</td>\n",
       "      <td>0.5002393</td>\n",
       "      <td>0.47421497</td>\n",
       "      <td>0.5571351</td>\n",
       "      <td>0.4998734</td>\n",
       "      <td>...</td>\n",
       "      <td>0.5000438</td>\n",
       "      <td>0.5002962</td>\n",
       "      <td>0.5000458</td>\n",
       "      <td>0.5000458</td>\n",
       "      <td>0.5000458</td>\n",
       "      <td>0.50002486</td>\n",
       "      <td>0.5000856</td>\n",
       "      <td>0.49982718</td>\n",
       "      <td>0.50015855</td>\n",
       "      <td>0.54511267</td>\n",
       "    </tr>\n",
       "    <tr>\n",
       "      <th>2</th>\n",
       "      <td>0.5000458</td>\n",
       "      <td>0.54084253</td>\n",
       "      <td>0.50029004</td>\n",
       "      <td>0.5125477</td>\n",
       "      <td>0.5802353</td>\n",
       "      <td>0.53162146</td>\n",
       "      <td>0.5002393</td>\n",
       "      <td>0.47421497</td>\n",
       "      <td>0.5571351</td>\n",
       "      <td>0.49987352</td>\n",
       "      <td>...</td>\n",
       "      <td>0.50004494</td>\n",
       "      <td>0.50029594</td>\n",
       "      <td>0.5000458</td>\n",
       "      <td>0.5000458</td>\n",
       "      <td>0.5000458</td>\n",
       "      <td>0.50002486</td>\n",
       "      <td>0.5000856</td>\n",
       "      <td>0.49982718</td>\n",
       "      <td>0.50015855</td>\n",
       "      <td>0.54511267</td>\n",
       "    </tr>\n",
       "    <tr>\n",
       "      <th>3</th>\n",
       "      <td>0.5000458</td>\n",
       "      <td>0.54084253</td>\n",
       "      <td>0.50029004</td>\n",
       "      <td>0.5125477</td>\n",
       "      <td>0.5802353</td>\n",
       "      <td>0.53162146</td>\n",
       "      <td>0.5002393</td>\n",
       "      <td>0.47421497</td>\n",
       "      <td>0.5571351</td>\n",
       "      <td>0.49987328</td>\n",
       "      <td>...</td>\n",
       "      <td>0.5000446</td>\n",
       "      <td>0.5002962</td>\n",
       "      <td>0.5000458</td>\n",
       "      <td>0.5000458</td>\n",
       "      <td>0.5000458</td>\n",
       "      <td>0.50002486</td>\n",
       "      <td>0.5000856</td>\n",
       "      <td>0.49982718</td>\n",
       "      <td>0.50015855</td>\n",
       "      <td>0.54511267</td>\n",
       "    </tr>\n",
       "    <tr>\n",
       "      <th>4</th>\n",
       "      <td>0.5000458</td>\n",
       "      <td>0.54084253</td>\n",
       "      <td>0.50029004</td>\n",
       "      <td>0.5125477</td>\n",
       "      <td>0.5802353</td>\n",
       "      <td>0.53162146</td>\n",
       "      <td>0.5002393</td>\n",
       "      <td>0.47421497</td>\n",
       "      <td>0.5571351</td>\n",
       "      <td>0.49987388</td>\n",
       "      <td>...</td>\n",
       "      <td>0.50004435</td>\n",
       "      <td>0.5002956</td>\n",
       "      <td>0.5000458</td>\n",
       "      <td>0.5000458</td>\n",
       "      <td>0.5000458</td>\n",
       "      <td>0.50002486</td>\n",
       "      <td>0.5000856</td>\n",
       "      <td>0.49982718</td>\n",
       "      <td>0.50015855</td>\n",
       "      <td>0.54511267</td>\n",
       "    </tr>\n",
       "    <tr>\n",
       "      <th>...</th>\n",
       "      <td>...</td>\n",
       "      <td>...</td>\n",
       "      <td>...</td>\n",
       "      <td>...</td>\n",
       "      <td>...</td>\n",
       "      <td>...</td>\n",
       "      <td>...</td>\n",
       "      <td>...</td>\n",
       "      <td>...</td>\n",
       "      <td>...</td>\n",
       "      <td>...</td>\n",
       "      <td>...</td>\n",
       "      <td>...</td>\n",
       "      <td>...</td>\n",
       "      <td>...</td>\n",
       "      <td>...</td>\n",
       "      <td>...</td>\n",
       "      <td>...</td>\n",
       "      <td>...</td>\n",
       "      <td>...</td>\n",
       "      <td>...</td>\n",
       "    </tr>\n",
       "    <tr>\n",
       "      <th>233787</th>\n",
       "      <td>0.5000458</td>\n",
       "      <td>0.5401675</td>\n",
       "      <td>0.5002942</td>\n",
       "      <td>0.5125477</td>\n",
       "      <td>0.5804533</td>\n",
       "      <td>0.53148186</td>\n",
       "      <td>0.5002417</td>\n",
       "      <td>0.4751176</td>\n",
       "      <td>0.55781376</td>\n",
       "      <td>0.49985716</td>\n",
       "      <td>...</td>\n",
       "      <td>0.5000452</td>\n",
       "      <td>0.50029594</td>\n",
       "      <td>0.5000458</td>\n",
       "      <td>0.5000458</td>\n",
       "      <td>0.5000458</td>\n",
       "      <td>0.5000026</td>\n",
       "      <td>0.50003374</td>\n",
       "      <td>0.5001087</td>\n",
       "      <td>0.5002836</td>\n",
       "      <td>0.54511267</td>\n",
       "    </tr>\n",
       "    <tr>\n",
       "      <th>233788</th>\n",
       "      <td>0.5000458</td>\n",
       "      <td>0.5401675</td>\n",
       "      <td>0.5002942</td>\n",
       "      <td>0.5125477</td>\n",
       "      <td>0.5804533</td>\n",
       "      <td>0.53148186</td>\n",
       "      <td>0.5002417</td>\n",
       "      <td>0.4751176</td>\n",
       "      <td>0.55781376</td>\n",
       "      <td>0.49985802</td>\n",
       "      <td>...</td>\n",
       "      <td>0.50004506</td>\n",
       "      <td>0.50029606</td>\n",
       "      <td>0.5000458</td>\n",
       "      <td>0.5000458</td>\n",
       "      <td>0.5000458</td>\n",
       "      <td>0.5000026</td>\n",
       "      <td>0.50003374</td>\n",
       "      <td>0.5001087</td>\n",
       "      <td>0.5002836</td>\n",
       "      <td>0.54511267</td>\n",
       "    </tr>\n",
       "    <tr>\n",
       "      <th>233789</th>\n",
       "      <td>0.5000458</td>\n",
       "      <td>0.5401675</td>\n",
       "      <td>0.5002942</td>\n",
       "      <td>0.5125477</td>\n",
       "      <td>0.5804533</td>\n",
       "      <td>0.53148186</td>\n",
       "      <td>0.5002417</td>\n",
       "      <td>0.4751176</td>\n",
       "      <td>0.55781376</td>\n",
       "      <td>0.49985716</td>\n",
       "      <td>...</td>\n",
       "      <td>0.50004494</td>\n",
       "      <td>0.5002957</td>\n",
       "      <td>0.5000458</td>\n",
       "      <td>0.5000458</td>\n",
       "      <td>0.5000458</td>\n",
       "      <td>0.5000026</td>\n",
       "      <td>0.50003374</td>\n",
       "      <td>0.5001087</td>\n",
       "      <td>0.5002836</td>\n",
       "      <td>0.54511267</td>\n",
       "    </tr>\n",
       "    <tr>\n",
       "      <th>233790</th>\n",
       "      <td>0.5000458</td>\n",
       "      <td>0.5401675</td>\n",
       "      <td>0.5002942</td>\n",
       "      <td>0.5125477</td>\n",
       "      <td>0.5804533</td>\n",
       "      <td>0.53148186</td>\n",
       "      <td>0.5002417</td>\n",
       "      <td>0.4751176</td>\n",
       "      <td>0.55781376</td>\n",
       "      <td>0.49985507</td>\n",
       "      <td>...</td>\n",
       "      <td>0.5000446</td>\n",
       "      <td>0.5002958</td>\n",
       "      <td>0.5000458</td>\n",
       "      <td>0.50006104</td>\n",
       "      <td>0.5000458</td>\n",
       "      <td>0.50000256</td>\n",
       "      <td>0.50003374</td>\n",
       "      <td>0.5001087</td>\n",
       "      <td>0.5002836</td>\n",
       "      <td>0.54511267</td>\n",
       "    </tr>\n",
       "    <tr>\n",
       "      <th>233791</th>\n",
       "      <td>0.5000458</td>\n",
       "      <td>0.5401675</td>\n",
       "      <td>0.5002942</td>\n",
       "      <td>0.5125477</td>\n",
       "      <td>0.5804533</td>\n",
       "      <td>0.53148186</td>\n",
       "      <td>0.5002417</td>\n",
       "      <td>0.4751176</td>\n",
       "      <td>0.55781376</td>\n",
       "      <td>0.49985886</td>\n",
       "      <td>...</td>\n",
       "      <td>0.5000448</td>\n",
       "      <td>0.5002964</td>\n",
       "      <td>0.5000305</td>\n",
       "      <td>0.5000458</td>\n",
       "      <td>0.5000458</td>\n",
       "      <td>0.50000256</td>\n",
       "      <td>0.50003374</td>\n",
       "      <td>0.5001087</td>\n",
       "      <td>0.5002836</td>\n",
       "      <td>0.54511267</td>\n",
       "    </tr>\n",
       "  </tbody>\n",
       "</table>\n",
       "<p>233792 rows × 86 columns</p>\n",
       "</div>"
      ]
     },
     "execution_count": 4,
     "metadata": {},
     "output_type": "execute_result"
    }
   ],
   "execution_count": 4
  },
  {
   "metadata": {
    "ExecuteTime": {
     "end_time": "2024-06-19T21:35:04.377277Z",
     "start_time": "2024-06-19T21:35:04.336146Z"
    }
   },
   "cell_type": "code",
   "source": "df_kuka_normal['action'].astype(float).unique()",
   "id": "1614216050484ef1",
   "outputs": [
    {
     "data": {
      "text/plain": [
       "array([0.5000458 , 0.5002958 , 0.50054586, 0.5007959 , 0.50104594,\n",
       "       0.501296  , 0.501546  , 0.50179607, 0.5020461 , 0.50229615,\n",
       "       0.5025462 , 0.50279623, 0.5030462 , 0.50329626, 0.5035463 ,\n",
       "       0.50379634, 0.5040464 , 0.5042964 , 0.50454646, 0.5047965 ,\n",
       "       0.50504655, 0.5052966 , 0.5055466 , 0.5057967 , 0.5060467 ,\n",
       "       0.50629675, 0.5065468 , 0.50679684, 0.5070469 , 0.50729686,\n",
       "       0.5075469 , 0.50779694])"
      ]
     },
     "execution_count": 5,
     "metadata": {},
     "output_type": "execute_result"
    }
   ],
   "execution_count": 5
  },
  {
   "metadata": {
    "ExecuteTime": {
     "end_time": "2024-06-19T21:35:05.640465Z",
     "start_time": "2024-06-19T21:35:04.378376Z"
    }
   },
   "cell_type": "code",
   "source": [
    "kuka_slow_path = os.path.join(ROOTDIR_DATASET, 'KukaSlow.npy')\n",
    "kuka_slow = np.load(kuka_slow_path)\n",
    "kuka_slow = kuka_slow.astype('float32')\n",
    "kuka_slow = (kuka_slow - np.min(kuka_slow)) / (np.max(kuka_slow) - np.min(kuka_slow))\n",
    "\n",
    "kuka_slow = np.vstack((kuka_column_names, kuka_slow))\n",
    "\n",
    "df_kuka_slow = pd.DataFrame(kuka_slow)\n",
    "df_kuka_slow.columns = df_kuka_slow.iloc[0]\n",
    "df_kuka_slow = df_kuka_slow.iloc[1:]\n",
    "df_kuka_slow = df_kuka_slow.reset_index(drop=True)\n",
    "df_kuka_slow.drop(\"anomaly\", axis=1, inplace=True)\n",
    "# df_kuka_slow['machine_nameKuka Robot_time'] = df_kuka_slow.index.astype(float) /  df_kuka_slow['machine_nameKuka Robot_frequency'].astype(float)\n",
    "df_kuka_slow"
   ],
   "id": "39365ea5e9ac8d83",
   "outputs": [
    {
     "data": {
      "text/plain": [
       "0         action machine_nameKuka Robot_apparent_power  \\\n",
       "0       0.550076                             0.6067533   \n",
       "1       0.550076                             0.6067533   \n",
       "2       0.550076                             0.6067533   \n",
       "3       0.550076                             0.6067533   \n",
       "4       0.550076                             0.6067533   \n",
       "...          ...                                   ...   \n",
       "41533  0.5473328                             0.6067829   \n",
       "41534  0.5473328                             0.6067829   \n",
       "41535  0.5473328                             0.6067829   \n",
       "41536  0.5473328                             0.6067829   \n",
       "41537  0.5473328                             0.6067829   \n",
       "\n",
       "0     machine_nameKuka Robot_current machine_nameKuka Robot_frequency  \\\n",
       "0                          0.5476623                        0.5610488   \n",
       "1                          0.5476623                        0.5610488   \n",
       "2                          0.5476623                        0.5610354   \n",
       "3                          0.5476623                        0.5610354   \n",
       "4                          0.5476623                        0.5610354   \n",
       "...                              ...                              ...   \n",
       "41533                      0.5476799                        0.5610354   \n",
       "41534                      0.5476799                        0.5610354   \n",
       "41535                      0.5476799                        0.5610354   \n",
       "41536                      0.5476799                        0.5610354   \n",
       "41537                      0.5476799                        0.5610354   \n",
       "\n",
       "0     machine_nameKuka Robot_phase_angle machine_nameKuka Robot_power  \\\n",
       "0                              0.6380664                   0.59918267   \n",
       "1                              0.6380664                   0.59918267   \n",
       "2                              0.6380664                   0.59918267   \n",
       "3                              0.6380664                   0.59918267   \n",
       "4                              0.6380664                   0.59918267   \n",
       "...                                  ...                          ...   \n",
       "41533                          0.6376725                    0.5984644   \n",
       "41534                          0.6376725                    0.5984644   \n",
       "41535                          0.6376725                    0.5984644   \n",
       "41536                          0.6376725                    0.5984644   \n",
       "41537                          0.6376725                    0.5984644   \n",
       "\n",
       "0     machine_nameKuka Robot_power_factor  \\\n",
       "0                               0.5475722   \n",
       "1                               0.5475722   \n",
       "2                               0.5475722   \n",
       "3                               0.5475722   \n",
       "4                               0.5475722   \n",
       "...                                   ...   \n",
       "41533                          0.54756874   \n",
       "41534                          0.54756874   \n",
       "41535                          0.54756874   \n",
       "41536                          0.54756874   \n",
       "41537                          0.54756874   \n",
       "\n",
       "0     machine_nameKuka Robot_reactive_power machine_nameKuka Robot_voltage  \\\n",
       "0                                0.51831156                      0.6099998   \n",
       "1                                0.51831156                      0.6099998   \n",
       "2                                0.51831156                      0.6099998   \n",
       "3                                0.51831156                      0.6099998   \n",
       "4                                0.51831156                      0.6099998   \n",
       "...                                     ...                            ...   \n",
       "41533                             0.5170063                     0.61008596   \n",
       "41534                             0.5170063                     0.61008596   \n",
       "41535                             0.5170063                     0.61008596   \n",
       "41536                             0.5170063                     0.61008596   \n",
       "41537                             0.5170063                     0.61008596   \n",
       "\n",
       "0     sensor_id1_AccX  ... sensor_id7_AccY sensor_id7_AccZ sensor_id7_GyroX  \\\n",
       "0             0.54716  ...      0.54735816       0.5476133        0.5470649   \n",
       "1             0.54716  ...      0.54733306      0.54761064        0.5472826   \n",
       "2          0.54719836  ...       0.5473482       0.5476125        0.5473328   \n",
       "3          0.54716176  ...       0.5473267       0.5476042        0.5473496   \n",
       "4          0.54717046  ...      0.54732543       0.5476038        0.5472993   \n",
       "...               ...  ...             ...             ...              ...   \n",
       "41533       0.5471686  ...       0.5473347      0.54761034        0.5473328   \n",
       "41534       0.5471686  ...        0.547337      0.54760474        0.5472993   \n",
       "41535       0.5471686  ...       0.5473308       0.5476109        0.5473328   \n",
       "41536       0.5471686  ...       0.5473386      0.54760647        0.5471989   \n",
       "41537      0.54717666  ...      0.54732627        0.547611        0.5472993   \n",
       "\n",
       "0     sensor_id7_GyroY sensor_id7_GyroZ sensor_id7_q1 sensor_id7_q2  \\\n",
       "0            0.5448548       0.55836654      0.547275     0.5473366   \n",
       "1           0.54676354       0.54917455     0.5472748    0.54733574   \n",
       "2            0.5472826        0.5472993     0.5472756     0.5473368   \n",
       "3           0.54738307        0.5472491     0.5472763     0.5473376   \n",
       "4            0.5473663         0.547517    0.54727685    0.54733825   \n",
       "...                ...              ...           ...           ...   \n",
       "41533        0.5446372        0.5589023     0.5472899      0.547303   \n",
       "41534       0.54467064        0.5586177     0.5472911     0.5472999   \n",
       "41535        0.5446874        0.5588521    0.54729235      0.547297   \n",
       "41536        0.5446037        0.5584503    0.54729366      0.547294   \n",
       "41537        0.5446874       0.55860096     0.5472951     0.5472913   \n",
       "\n",
       "0     sensor_id7_q3 sensor_id7_q4 sensor_id7_temp  \n",
       "0         0.5472404    0.54758453       0.5967761  \n",
       "1        0.54724574     0.5475864       0.5967761  \n",
       "2          0.547246     0.5475866       0.5967761  \n",
       "3         0.5472461     0.5475868       0.5967761  \n",
       "4         0.5472462     0.5475869       0.5967761  \n",
       "...             ...           ...             ...  \n",
       "41533    0.54744023    0.54757977       0.5967761  \n",
       "41534     0.5474488    0.54757565       0.5967761  \n",
       "41535     0.5474568     0.5475715       0.5967761  \n",
       "41536    0.54746515     0.5475667       0.5967761  \n",
       "41537    0.54747325    0.54756165       0.5967761  \n",
       "\n",
       "[41538 rows x 86 columns]"
      ],
      "text/html": [
       "<div>\n",
       "<style scoped>\n",
       "    .dataframe tbody tr th:only-of-type {\n",
       "        vertical-align: middle;\n",
       "    }\n",
       "\n",
       "    .dataframe tbody tr th {\n",
       "        vertical-align: top;\n",
       "    }\n",
       "\n",
       "    .dataframe thead th {\n",
       "        text-align: right;\n",
       "    }\n",
       "</style>\n",
       "<table border=\"1\" class=\"dataframe\">\n",
       "  <thead>\n",
       "    <tr style=\"text-align: right;\">\n",
       "      <th></th>\n",
       "      <th>action</th>\n",
       "      <th>machine_nameKuka Robot_apparent_power</th>\n",
       "      <th>machine_nameKuka Robot_current</th>\n",
       "      <th>machine_nameKuka Robot_frequency</th>\n",
       "      <th>machine_nameKuka Robot_phase_angle</th>\n",
       "      <th>machine_nameKuka Robot_power</th>\n",
       "      <th>machine_nameKuka Robot_power_factor</th>\n",
       "      <th>machine_nameKuka Robot_reactive_power</th>\n",
       "      <th>machine_nameKuka Robot_voltage</th>\n",
       "      <th>sensor_id1_AccX</th>\n",
       "      <th>...</th>\n",
       "      <th>sensor_id7_AccY</th>\n",
       "      <th>sensor_id7_AccZ</th>\n",
       "      <th>sensor_id7_GyroX</th>\n",
       "      <th>sensor_id7_GyroY</th>\n",
       "      <th>sensor_id7_GyroZ</th>\n",
       "      <th>sensor_id7_q1</th>\n",
       "      <th>sensor_id7_q2</th>\n",
       "      <th>sensor_id7_q3</th>\n",
       "      <th>sensor_id7_q4</th>\n",
       "      <th>sensor_id7_temp</th>\n",
       "    </tr>\n",
       "  </thead>\n",
       "  <tbody>\n",
       "    <tr>\n",
       "      <th>0</th>\n",
       "      <td>0.550076</td>\n",
       "      <td>0.6067533</td>\n",
       "      <td>0.5476623</td>\n",
       "      <td>0.5610488</td>\n",
       "      <td>0.6380664</td>\n",
       "      <td>0.59918267</td>\n",
       "      <td>0.5475722</td>\n",
       "      <td>0.51831156</td>\n",
       "      <td>0.6099998</td>\n",
       "      <td>0.54716</td>\n",
       "      <td>...</td>\n",
       "      <td>0.54735816</td>\n",
       "      <td>0.5476133</td>\n",
       "      <td>0.5470649</td>\n",
       "      <td>0.5448548</td>\n",
       "      <td>0.55836654</td>\n",
       "      <td>0.547275</td>\n",
       "      <td>0.5473366</td>\n",
       "      <td>0.5472404</td>\n",
       "      <td>0.54758453</td>\n",
       "      <td>0.5967761</td>\n",
       "    </tr>\n",
       "    <tr>\n",
       "      <th>1</th>\n",
       "      <td>0.550076</td>\n",
       "      <td>0.6067533</td>\n",
       "      <td>0.5476623</td>\n",
       "      <td>0.5610488</td>\n",
       "      <td>0.6380664</td>\n",
       "      <td>0.59918267</td>\n",
       "      <td>0.5475722</td>\n",
       "      <td>0.51831156</td>\n",
       "      <td>0.6099998</td>\n",
       "      <td>0.54716</td>\n",
       "      <td>...</td>\n",
       "      <td>0.54733306</td>\n",
       "      <td>0.54761064</td>\n",
       "      <td>0.5472826</td>\n",
       "      <td>0.54676354</td>\n",
       "      <td>0.54917455</td>\n",
       "      <td>0.5472748</td>\n",
       "      <td>0.54733574</td>\n",
       "      <td>0.54724574</td>\n",
       "      <td>0.5475864</td>\n",
       "      <td>0.5967761</td>\n",
       "    </tr>\n",
       "    <tr>\n",
       "      <th>2</th>\n",
       "      <td>0.550076</td>\n",
       "      <td>0.6067533</td>\n",
       "      <td>0.5476623</td>\n",
       "      <td>0.5610354</td>\n",
       "      <td>0.6380664</td>\n",
       "      <td>0.59918267</td>\n",
       "      <td>0.5475722</td>\n",
       "      <td>0.51831156</td>\n",
       "      <td>0.6099998</td>\n",
       "      <td>0.54719836</td>\n",
       "      <td>...</td>\n",
       "      <td>0.5473482</td>\n",
       "      <td>0.5476125</td>\n",
       "      <td>0.5473328</td>\n",
       "      <td>0.5472826</td>\n",
       "      <td>0.5472993</td>\n",
       "      <td>0.5472756</td>\n",
       "      <td>0.5473368</td>\n",
       "      <td>0.547246</td>\n",
       "      <td>0.5475866</td>\n",
       "      <td>0.5967761</td>\n",
       "    </tr>\n",
       "    <tr>\n",
       "      <th>3</th>\n",
       "      <td>0.550076</td>\n",
       "      <td>0.6067533</td>\n",
       "      <td>0.5476623</td>\n",
       "      <td>0.5610354</td>\n",
       "      <td>0.6380664</td>\n",
       "      <td>0.59918267</td>\n",
       "      <td>0.5475722</td>\n",
       "      <td>0.51831156</td>\n",
       "      <td>0.6099998</td>\n",
       "      <td>0.54716176</td>\n",
       "      <td>...</td>\n",
       "      <td>0.5473267</td>\n",
       "      <td>0.5476042</td>\n",
       "      <td>0.5473496</td>\n",
       "      <td>0.54738307</td>\n",
       "      <td>0.5472491</td>\n",
       "      <td>0.5472763</td>\n",
       "      <td>0.5473376</td>\n",
       "      <td>0.5472461</td>\n",
       "      <td>0.5475868</td>\n",
       "      <td>0.5967761</td>\n",
       "    </tr>\n",
       "    <tr>\n",
       "      <th>4</th>\n",
       "      <td>0.550076</td>\n",
       "      <td>0.6067533</td>\n",
       "      <td>0.5476623</td>\n",
       "      <td>0.5610354</td>\n",
       "      <td>0.6380664</td>\n",
       "      <td>0.59918267</td>\n",
       "      <td>0.5475722</td>\n",
       "      <td>0.51831156</td>\n",
       "      <td>0.6099998</td>\n",
       "      <td>0.54717046</td>\n",
       "      <td>...</td>\n",
       "      <td>0.54732543</td>\n",
       "      <td>0.5476038</td>\n",
       "      <td>0.5472993</td>\n",
       "      <td>0.5473663</td>\n",
       "      <td>0.547517</td>\n",
       "      <td>0.54727685</td>\n",
       "      <td>0.54733825</td>\n",
       "      <td>0.5472462</td>\n",
       "      <td>0.5475869</td>\n",
       "      <td>0.5967761</td>\n",
       "    </tr>\n",
       "    <tr>\n",
       "      <th>...</th>\n",
       "      <td>...</td>\n",
       "      <td>...</td>\n",
       "      <td>...</td>\n",
       "      <td>...</td>\n",
       "      <td>...</td>\n",
       "      <td>...</td>\n",
       "      <td>...</td>\n",
       "      <td>...</td>\n",
       "      <td>...</td>\n",
       "      <td>...</td>\n",
       "      <td>...</td>\n",
       "      <td>...</td>\n",
       "      <td>...</td>\n",
       "      <td>...</td>\n",
       "      <td>...</td>\n",
       "      <td>...</td>\n",
       "      <td>...</td>\n",
       "      <td>...</td>\n",
       "      <td>...</td>\n",
       "      <td>...</td>\n",
       "      <td>...</td>\n",
       "    </tr>\n",
       "    <tr>\n",
       "      <th>41533</th>\n",
       "      <td>0.5473328</td>\n",
       "      <td>0.6067829</td>\n",
       "      <td>0.5476799</td>\n",
       "      <td>0.5610354</td>\n",
       "      <td>0.6376725</td>\n",
       "      <td>0.5984644</td>\n",
       "      <td>0.54756874</td>\n",
       "      <td>0.5170063</td>\n",
       "      <td>0.61008596</td>\n",
       "      <td>0.5471686</td>\n",
       "      <td>...</td>\n",
       "      <td>0.5473347</td>\n",
       "      <td>0.54761034</td>\n",
       "      <td>0.5473328</td>\n",
       "      <td>0.5446372</td>\n",
       "      <td>0.5589023</td>\n",
       "      <td>0.5472899</td>\n",
       "      <td>0.547303</td>\n",
       "      <td>0.54744023</td>\n",
       "      <td>0.54757977</td>\n",
       "      <td>0.5967761</td>\n",
       "    </tr>\n",
       "    <tr>\n",
       "      <th>41534</th>\n",
       "      <td>0.5473328</td>\n",
       "      <td>0.6067829</td>\n",
       "      <td>0.5476799</td>\n",
       "      <td>0.5610354</td>\n",
       "      <td>0.6376725</td>\n",
       "      <td>0.5984644</td>\n",
       "      <td>0.54756874</td>\n",
       "      <td>0.5170063</td>\n",
       "      <td>0.61008596</td>\n",
       "      <td>0.5471686</td>\n",
       "      <td>...</td>\n",
       "      <td>0.547337</td>\n",
       "      <td>0.54760474</td>\n",
       "      <td>0.5472993</td>\n",
       "      <td>0.54467064</td>\n",
       "      <td>0.5586177</td>\n",
       "      <td>0.5472911</td>\n",
       "      <td>0.5472999</td>\n",
       "      <td>0.5474488</td>\n",
       "      <td>0.54757565</td>\n",
       "      <td>0.5967761</td>\n",
       "    </tr>\n",
       "    <tr>\n",
       "      <th>41535</th>\n",
       "      <td>0.5473328</td>\n",
       "      <td>0.6067829</td>\n",
       "      <td>0.5476799</td>\n",
       "      <td>0.5610354</td>\n",
       "      <td>0.6376725</td>\n",
       "      <td>0.5984644</td>\n",
       "      <td>0.54756874</td>\n",
       "      <td>0.5170063</td>\n",
       "      <td>0.61008596</td>\n",
       "      <td>0.5471686</td>\n",
       "      <td>...</td>\n",
       "      <td>0.5473308</td>\n",
       "      <td>0.5476109</td>\n",
       "      <td>0.5473328</td>\n",
       "      <td>0.5446874</td>\n",
       "      <td>0.5588521</td>\n",
       "      <td>0.54729235</td>\n",
       "      <td>0.547297</td>\n",
       "      <td>0.5474568</td>\n",
       "      <td>0.5475715</td>\n",
       "      <td>0.5967761</td>\n",
       "    </tr>\n",
       "    <tr>\n",
       "      <th>41536</th>\n",
       "      <td>0.5473328</td>\n",
       "      <td>0.6067829</td>\n",
       "      <td>0.5476799</td>\n",
       "      <td>0.5610354</td>\n",
       "      <td>0.6376725</td>\n",
       "      <td>0.5984644</td>\n",
       "      <td>0.54756874</td>\n",
       "      <td>0.5170063</td>\n",
       "      <td>0.61008596</td>\n",
       "      <td>0.5471686</td>\n",
       "      <td>...</td>\n",
       "      <td>0.5473386</td>\n",
       "      <td>0.54760647</td>\n",
       "      <td>0.5471989</td>\n",
       "      <td>0.5446037</td>\n",
       "      <td>0.5584503</td>\n",
       "      <td>0.54729366</td>\n",
       "      <td>0.547294</td>\n",
       "      <td>0.54746515</td>\n",
       "      <td>0.5475667</td>\n",
       "      <td>0.5967761</td>\n",
       "    </tr>\n",
       "    <tr>\n",
       "      <th>41537</th>\n",
       "      <td>0.5473328</td>\n",
       "      <td>0.6067829</td>\n",
       "      <td>0.5476799</td>\n",
       "      <td>0.5610354</td>\n",
       "      <td>0.6376725</td>\n",
       "      <td>0.5984644</td>\n",
       "      <td>0.54756874</td>\n",
       "      <td>0.5170063</td>\n",
       "      <td>0.61008596</td>\n",
       "      <td>0.54717666</td>\n",
       "      <td>...</td>\n",
       "      <td>0.54732627</td>\n",
       "      <td>0.547611</td>\n",
       "      <td>0.5472993</td>\n",
       "      <td>0.5446874</td>\n",
       "      <td>0.55860096</td>\n",
       "      <td>0.5472951</td>\n",
       "      <td>0.5472913</td>\n",
       "      <td>0.54747325</td>\n",
       "      <td>0.54756165</td>\n",
       "      <td>0.5967761</td>\n",
       "    </tr>\n",
       "  </tbody>\n",
       "</table>\n",
       "<p>41538 rows × 86 columns</p>\n",
       "</div>"
      ]
     },
     "execution_count": 6,
     "metadata": {},
     "output_type": "execute_result"
    }
   ],
   "execution_count": 6
  },
  {
   "metadata": {
    "ExecuteTime": {
     "end_time": "2024-06-19T21:35:05.651944Z",
     "start_time": "2024-06-19T21:35:05.642868Z"
    }
   },
   "cell_type": "code",
   "source": [
    "a: np.ndarray = df_kuka_slow['action'].astype(float).unique()\n",
    "a.sort()\n",
    "a"
   ],
   "id": "5a13bb834c951222",
   "outputs": [
    {
     "data": {
      "text/plain": [
       "array([0.5473328 , 0.5476071 , 0.5478815 , 0.5481558 , 0.5484301 ,\n",
       "       0.54870445, 0.54897875, 0.54925305, 0.54952735, 0.550076  ,\n",
       "       0.5503503 , 0.55062467, 0.55089897, 0.55117327, 0.55144763,\n",
       "       0.55172193, 0.55199623, 0.5522706 , 0.5525449 , 0.5528192 ,\n",
       "       0.55309355, 0.55336785, 0.55364215, 0.5539165 , 0.5541908 ,\n",
       "       0.5544651 , 0.5547394 , 0.5550138 , 0.5552881 , 0.5555624 ,\n",
       "       0.55583674])"
      ]
     },
     "execution_count": 7,
     "metadata": {},
     "output_type": "execute_result"
    }
   ],
   "execution_count": 7
  },
  {
   "metadata": {
    "ExecuteTime": {
     "end_time": "2024-06-19T21:35:05.671711Z",
     "start_time": "2024-06-19T21:35:05.652921Z"
    }
   },
   "cell_type": "code",
   "source": [
    "class Encoder(tf.keras.Model):\n",
    "    def __init__(self, window_size):\n",
    "        super(Encoder, self).__init__()\n",
    "        # n_feature = 86\n",
    "        # Input size: (n_feature, window_size)\n",
    "        self.conv1d_1 = tf.keras.layers.Conv1D(filters=window_size*2, kernel_size=7, strides=1, padding='valid')\n",
    "        # size: (80, window_size*2)\n",
    "        self.conv1d_2 = tf.keras.layers.Conv1D(filters=window_size*4, kernel_size=4, strides=2, padding='same')\n",
    "        # size: (40, window_size*4)\n",
    "        self.conv1d_3 = tf.keras.layers.Conv1D(filters=window_size*8, kernel_size=4, strides=2, padding='same')\n",
    "        # size: (20, window_size*8)\n",
    "        self.conv1d_4 = tf.keras.layers.Conv1D(filters=window_size*16, kernel_size=4, strides=2, padding='same')\n",
    "        # size: (10, window_size*16)\n",
    "        self.conv1d_5 = tf.keras.layers.Conv1D(filters=window_size*32, kernel_size=10, strides=1, padding='valid')\n",
    "        # size: (1, window_size*32)\n",
    "        \n",
    "        self.batch_norm_1 = tf.keras.layers.BatchNormalization()\n",
    "        self.batch_norm_2 = tf.keras.layers.BatchNormalization()\n",
    "        self.batch_norm_3 = tf.keras.layers.BatchNormalization()\n",
    "        self.batch_norm_4 = tf.keras.layers.BatchNormalization()\n",
    "\n",
    "    def build(self, input_shape):\n",
    "        super(Encoder, self).build(input_shape)\n",
    "\n",
    "    def call(self, X):\n",
    "        X = self.conv1d_1(X)\n",
    "        X = self.batch_norm_1(X)\n",
    "        X = tf.nn.leaky_relu(X)\n",
    "\n",
    "        X = self.conv1d_2(X)\n",
    "        X = self.batch_norm_2(X)\n",
    "        X = tf.nn.leaky_relu(X)\n",
    "\n",
    "        X = self.conv1d_3(X)\n",
    "        X = self.batch_norm_3(X)\n",
    "        X = tf.nn.leaky_relu(X)\n",
    "\n",
    "        X = self.conv1d_4(X)\n",
    "        X = self.batch_norm_4(X)\n",
    "        X = tf.nn.leaky_relu(X)\n",
    "        \n",
    "        X = self.conv1d_5(X)\n",
    "        \n",
    "        return X\n",
    "\n",
    "\n",
    "class Decoder(tf.keras.Model):\n",
    "    def __init__(self, window_size):\n",
    "        super(Decoder, self).__init__()\n",
    "        # Input size: (1, window_size*32)\n",
    "        self.conv_transpose_1d_1 = tf.keras.layers.Conv1DTranspose(filters=window_size*16, kernel_size=10, strides=1, padding='valid')\n",
    "        # size: (10, window_size*16)\n",
    "        self.conv_transpose_1d_2 = tf.keras.layers.Conv1DTranspose(filters=window_size*8, kernel_size=4, strides=2, padding='same')\n",
    "        # size: (20, window_size*8)\n",
    "        self.conv_transpose_1d_3 = tf.keras.layers.Conv1DTranspose(filters=window_size*4, kernel_size=4, strides=2, padding='same')\n",
    "        # size: (40, window_size*4)\n",
    "        self.conv_transpose_1d_4 = tf.keras.layers.Conv1DTranspose(filters=window_size*2, kernel_size=4, strides=2, padding='same')\n",
    "        # size: (80, window_size*2)\n",
    "        self.conv_transpose_1d_5 = tf.keras.layers.Conv1DTranspose(filters=window_size, kernel_size=7, strides=1, padding='valid')\n",
    "        # size: (86, window_size)\n",
    "        \n",
    "        self.batch_norm_1 = tf.keras.layers.BatchNormalization()\n",
    "        self.batch_norm_2 = tf.keras.layers.BatchNormalization()\n",
    "        self.batch_norm_3 = tf.keras.layers.BatchNormalization()\n",
    "        self.batch_norm_4 = tf.keras.layers.BatchNormalization()\n",
    "\n",
    "    def build(self, input_shape):\n",
    "        super(Decoder, self).build(input_shape)\n",
    "\n",
    "    def call(self, X):\n",
    "        X = self.conv_transpose_1d_1(X)\n",
    "        X = self.batch_norm_1(X)\n",
    "        X = tf.nn.relu(X)\n",
    "        \n",
    "        X = self.conv_transpose_1d_2(X)\n",
    "        X = self.batch_norm_2(X)\n",
    "        X = tf.nn.relu(X)\n",
    "\n",
    "        X = self.conv_transpose_1d_3(X)\n",
    "        X = self.batch_norm_3(X)\n",
    "        X = tf.nn.relu(X)\n",
    "        \n",
    "        X = self.conv_transpose_1d_4(X)\n",
    "        X = self.batch_norm_4(X)\n",
    "        X = tf.nn.relu(X)\n",
    "        \n",
    "        X = self.conv_transpose_1d_5(X)\n",
    "        \n",
    "        return X\n",
    "    \n",
    "\n",
    "class AutoEncoder(tf.keras.Model):\n",
    "    def __init__(self, window_size):\n",
    "        super(AutoEncoder, self).__init__()\n",
    "        self.encoder = Encoder(window_size)\n",
    "        self.decoder = Decoder(window_size)\n",
    "\n",
    "    def build(self, input_shape):\n",
    "        super(AutoEncoder, self).build(input_shape)\n",
    "\n",
    "    def call(self, X):\n",
    "        latent = self.encoder(X)\n",
    "        X = self.decoder(latent)\n",
    "\n",
    "        return X"
   ],
   "id": "8b42119be6b68da0",
   "outputs": [],
   "execution_count": 8
  },
  {
   "metadata": {
    "ExecuteTime": {
     "end_time": "2024-06-19T21:35:05.683116Z",
     "start_time": "2024-06-19T21:35:05.672942Z"
    }
   },
   "cell_type": "code",
   "source": "df_kuka_normal.iloc[:1000]",
   "id": "b303f574f9a3ccad",
   "outputs": [
    {
     "data": {
      "text/plain": [
       "0       action machine_nameKuka Robot_apparent_power  \\\n",
       "0    0.5000458                            0.54084253   \n",
       "1    0.5000458                            0.54084253   \n",
       "2    0.5000458                            0.54084253   \n",
       "3    0.5000458                            0.54084253   \n",
       "4    0.5000458                            0.54084253   \n",
       "..         ...                                   ...   \n",
       "995  0.5007959                            0.54576683   \n",
       "996  0.5007959                            0.54576683   \n",
       "997  0.5007959                            0.54576683   \n",
       "998  0.5007959                            0.54576683   \n",
       "999  0.5007959                            0.54576683   \n",
       "\n",
       "0   machine_nameKuka Robot_current machine_nameKuka Robot_frequency  \\\n",
       "0                       0.50029004                        0.5125477   \n",
       "1                       0.50029004                        0.5125477   \n",
       "2                       0.50029004                        0.5125477   \n",
       "3                       0.50029004                        0.5125477   \n",
       "4                       0.50029004                        0.5125477   \n",
       "..                             ...                              ...   \n",
       "995                     0.50026786                       0.51253545   \n",
       "996                     0.50026786                       0.51253545   \n",
       "997                     0.50026786                       0.51253545   \n",
       "998                     0.50026786                       0.51253545   \n",
       "999                     0.50026786                       0.51253545   \n",
       "\n",
       "0   machine_nameKuka Robot_phase_angle machine_nameKuka Robot_power  \\\n",
       "0                            0.5802353                   0.53162146   \n",
       "1                            0.5802353                   0.53162146   \n",
       "2                            0.5802353                   0.53162146   \n",
       "3                            0.5802353                   0.53162146   \n",
       "4                            0.5802353                   0.53162146   \n",
       "..                                 ...                          ...   \n",
       "995                         0.58298796                    0.5403097   \n",
       "996                         0.58298796                    0.5403097   \n",
       "997                         0.58298796                    0.5403097   \n",
       "998                         0.58298796                    0.5403097   \n",
       "999                         0.58298796                    0.5403097   \n",
       "\n",
       "0   machine_nameKuka Robot_power_factor machine_nameKuka Robot_reactive_power  \\\n",
       "0                             0.5002393                            0.47421497   \n",
       "1                             0.5002393                            0.47421497   \n",
       "2                             0.5002393                            0.47421497   \n",
       "3                             0.5002393                            0.47421497   \n",
       "4                             0.5002393                            0.47421497   \n",
       "..                                  ...                                   ...   \n",
       "995                          0.50026596                            0.47838613   \n",
       "996                          0.50026596                            0.47838613   \n",
       "997                          0.50026596                            0.47838613   \n",
       "998                          0.50026596                            0.47838613   \n",
       "999                          0.50026596                            0.47838613   \n",
       "\n",
       "0   machine_nameKuka Robot_voltage sensor_id1_AccX  ... sensor_id7_AccY  \\\n",
       "0                        0.5571351      0.49987328  ...       0.5000448   \n",
       "1                        0.5571351       0.4998734  ...       0.5000438   \n",
       "2                        0.5571351      0.49987352  ...      0.50004494   \n",
       "3                        0.5571351      0.49987328  ...       0.5000446   \n",
       "4                        0.5571351      0.49987388  ...      0.50004435   \n",
       "..                             ...             ...  ...             ...   \n",
       "995                     0.55721474      0.49975705  ...       0.5000419   \n",
       "996                     0.55721474       0.4997955  ...       0.5000509   \n",
       "997                     0.55721474      0.49985558  ...      0.50004077   \n",
       "998                     0.55721474      0.49973458  ...      0.50005263   \n",
       "999                     0.55721474      0.49978587  ...       0.5000438   \n",
       "\n",
       "0   sensor_id7_AccZ sensor_id7_GyroX sensor_id7_GyroY sensor_id7_GyroZ  \\\n",
       "0        0.50029606        0.5000458        0.5000458        0.5000458   \n",
       "1         0.5002962        0.5000458        0.5000458        0.5000458   \n",
       "2        0.50029594        0.5000458        0.5000458        0.5000458   \n",
       "3         0.5002962        0.5000458        0.5000458        0.5000458   \n",
       "4         0.5002956        0.5000458        0.5000458        0.5000458   \n",
       "..              ...              ...              ...              ...   \n",
       "995       0.5002874       0.50009155        0.5039221       0.48293808   \n",
       "996      0.50030863        0.5002442       0.50410527       0.48353326   \n",
       "997      0.50031537       0.50006104        0.5041205         0.483167   \n",
       "998       0.5002907        0.5000458       0.50276226        0.4892409   \n",
       "999       0.5002957        0.5000305        0.5005799        0.4978787   \n",
       "\n",
       "0   sensor_id7_q1 sensor_id7_q2 sensor_id7_q3 sensor_id7_q4 sensor_id7_temp  \n",
       "0      0.50002486     0.5000856    0.49982718    0.50015855      0.54511267  \n",
       "1      0.50002486     0.5000856    0.49982718    0.50015855      0.54511267  \n",
       "2      0.50002486     0.5000856    0.49982718    0.50015855      0.54511267  \n",
       "3      0.50002486     0.5000856    0.49982718    0.50015855      0.54511267  \n",
       "4      0.50002486     0.5000856    0.49982718    0.50015855      0.54511267  \n",
       "..            ...           ...           ...           ...             ...  \n",
       "995    0.50004256     0.5000936    0.49980995     0.5001136      0.54511267  \n",
       "996     0.5000475    0.50009507     0.4998067    0.50009996      0.54511267  \n",
       "997     0.5000524     0.5000963    0.49980435     0.5000861      0.54511267  \n",
       "998     0.5000563     0.5000971    0.49980292     0.5000738      0.54511267  \n",
       "999    0.50005716     0.5000971    0.49980238     0.5000684      0.54511267  \n",
       "\n",
       "[1000 rows x 86 columns]"
      ],
      "text/html": [
       "<div>\n",
       "<style scoped>\n",
       "    .dataframe tbody tr th:only-of-type {\n",
       "        vertical-align: middle;\n",
       "    }\n",
       "\n",
       "    .dataframe tbody tr th {\n",
       "        vertical-align: top;\n",
       "    }\n",
       "\n",
       "    .dataframe thead th {\n",
       "        text-align: right;\n",
       "    }\n",
       "</style>\n",
       "<table border=\"1\" class=\"dataframe\">\n",
       "  <thead>\n",
       "    <tr style=\"text-align: right;\">\n",
       "      <th></th>\n",
       "      <th>action</th>\n",
       "      <th>machine_nameKuka Robot_apparent_power</th>\n",
       "      <th>machine_nameKuka Robot_current</th>\n",
       "      <th>machine_nameKuka Robot_frequency</th>\n",
       "      <th>machine_nameKuka Robot_phase_angle</th>\n",
       "      <th>machine_nameKuka Robot_power</th>\n",
       "      <th>machine_nameKuka Robot_power_factor</th>\n",
       "      <th>machine_nameKuka Robot_reactive_power</th>\n",
       "      <th>machine_nameKuka Robot_voltage</th>\n",
       "      <th>sensor_id1_AccX</th>\n",
       "      <th>...</th>\n",
       "      <th>sensor_id7_AccY</th>\n",
       "      <th>sensor_id7_AccZ</th>\n",
       "      <th>sensor_id7_GyroX</th>\n",
       "      <th>sensor_id7_GyroY</th>\n",
       "      <th>sensor_id7_GyroZ</th>\n",
       "      <th>sensor_id7_q1</th>\n",
       "      <th>sensor_id7_q2</th>\n",
       "      <th>sensor_id7_q3</th>\n",
       "      <th>sensor_id7_q4</th>\n",
       "      <th>sensor_id7_temp</th>\n",
       "    </tr>\n",
       "  </thead>\n",
       "  <tbody>\n",
       "    <tr>\n",
       "      <th>0</th>\n",
       "      <td>0.5000458</td>\n",
       "      <td>0.54084253</td>\n",
       "      <td>0.50029004</td>\n",
       "      <td>0.5125477</td>\n",
       "      <td>0.5802353</td>\n",
       "      <td>0.53162146</td>\n",
       "      <td>0.5002393</td>\n",
       "      <td>0.47421497</td>\n",
       "      <td>0.5571351</td>\n",
       "      <td>0.49987328</td>\n",
       "      <td>...</td>\n",
       "      <td>0.5000448</td>\n",
       "      <td>0.50029606</td>\n",
       "      <td>0.5000458</td>\n",
       "      <td>0.5000458</td>\n",
       "      <td>0.5000458</td>\n",
       "      <td>0.50002486</td>\n",
       "      <td>0.5000856</td>\n",
       "      <td>0.49982718</td>\n",
       "      <td>0.50015855</td>\n",
       "      <td>0.54511267</td>\n",
       "    </tr>\n",
       "    <tr>\n",
       "      <th>1</th>\n",
       "      <td>0.5000458</td>\n",
       "      <td>0.54084253</td>\n",
       "      <td>0.50029004</td>\n",
       "      <td>0.5125477</td>\n",
       "      <td>0.5802353</td>\n",
       "      <td>0.53162146</td>\n",
       "      <td>0.5002393</td>\n",
       "      <td>0.47421497</td>\n",
       "      <td>0.5571351</td>\n",
       "      <td>0.4998734</td>\n",
       "      <td>...</td>\n",
       "      <td>0.5000438</td>\n",
       "      <td>0.5002962</td>\n",
       "      <td>0.5000458</td>\n",
       "      <td>0.5000458</td>\n",
       "      <td>0.5000458</td>\n",
       "      <td>0.50002486</td>\n",
       "      <td>0.5000856</td>\n",
       "      <td>0.49982718</td>\n",
       "      <td>0.50015855</td>\n",
       "      <td>0.54511267</td>\n",
       "    </tr>\n",
       "    <tr>\n",
       "      <th>2</th>\n",
       "      <td>0.5000458</td>\n",
       "      <td>0.54084253</td>\n",
       "      <td>0.50029004</td>\n",
       "      <td>0.5125477</td>\n",
       "      <td>0.5802353</td>\n",
       "      <td>0.53162146</td>\n",
       "      <td>0.5002393</td>\n",
       "      <td>0.47421497</td>\n",
       "      <td>0.5571351</td>\n",
       "      <td>0.49987352</td>\n",
       "      <td>...</td>\n",
       "      <td>0.50004494</td>\n",
       "      <td>0.50029594</td>\n",
       "      <td>0.5000458</td>\n",
       "      <td>0.5000458</td>\n",
       "      <td>0.5000458</td>\n",
       "      <td>0.50002486</td>\n",
       "      <td>0.5000856</td>\n",
       "      <td>0.49982718</td>\n",
       "      <td>0.50015855</td>\n",
       "      <td>0.54511267</td>\n",
       "    </tr>\n",
       "    <tr>\n",
       "      <th>3</th>\n",
       "      <td>0.5000458</td>\n",
       "      <td>0.54084253</td>\n",
       "      <td>0.50029004</td>\n",
       "      <td>0.5125477</td>\n",
       "      <td>0.5802353</td>\n",
       "      <td>0.53162146</td>\n",
       "      <td>0.5002393</td>\n",
       "      <td>0.47421497</td>\n",
       "      <td>0.5571351</td>\n",
       "      <td>0.49987328</td>\n",
       "      <td>...</td>\n",
       "      <td>0.5000446</td>\n",
       "      <td>0.5002962</td>\n",
       "      <td>0.5000458</td>\n",
       "      <td>0.5000458</td>\n",
       "      <td>0.5000458</td>\n",
       "      <td>0.50002486</td>\n",
       "      <td>0.5000856</td>\n",
       "      <td>0.49982718</td>\n",
       "      <td>0.50015855</td>\n",
       "      <td>0.54511267</td>\n",
       "    </tr>\n",
       "    <tr>\n",
       "      <th>4</th>\n",
       "      <td>0.5000458</td>\n",
       "      <td>0.54084253</td>\n",
       "      <td>0.50029004</td>\n",
       "      <td>0.5125477</td>\n",
       "      <td>0.5802353</td>\n",
       "      <td>0.53162146</td>\n",
       "      <td>0.5002393</td>\n",
       "      <td>0.47421497</td>\n",
       "      <td>0.5571351</td>\n",
       "      <td>0.49987388</td>\n",
       "      <td>...</td>\n",
       "      <td>0.50004435</td>\n",
       "      <td>0.5002956</td>\n",
       "      <td>0.5000458</td>\n",
       "      <td>0.5000458</td>\n",
       "      <td>0.5000458</td>\n",
       "      <td>0.50002486</td>\n",
       "      <td>0.5000856</td>\n",
       "      <td>0.49982718</td>\n",
       "      <td>0.50015855</td>\n",
       "      <td>0.54511267</td>\n",
       "    </tr>\n",
       "    <tr>\n",
       "      <th>...</th>\n",
       "      <td>...</td>\n",
       "      <td>...</td>\n",
       "      <td>...</td>\n",
       "      <td>...</td>\n",
       "      <td>...</td>\n",
       "      <td>...</td>\n",
       "      <td>...</td>\n",
       "      <td>...</td>\n",
       "      <td>...</td>\n",
       "      <td>...</td>\n",
       "      <td>...</td>\n",
       "      <td>...</td>\n",
       "      <td>...</td>\n",
       "      <td>...</td>\n",
       "      <td>...</td>\n",
       "      <td>...</td>\n",
       "      <td>...</td>\n",
       "      <td>...</td>\n",
       "      <td>...</td>\n",
       "      <td>...</td>\n",
       "      <td>...</td>\n",
       "    </tr>\n",
       "    <tr>\n",
       "      <th>995</th>\n",
       "      <td>0.5007959</td>\n",
       "      <td>0.54576683</td>\n",
       "      <td>0.50026786</td>\n",
       "      <td>0.51253545</td>\n",
       "      <td>0.58298796</td>\n",
       "      <td>0.5403097</td>\n",
       "      <td>0.50026596</td>\n",
       "      <td>0.47838613</td>\n",
       "      <td>0.55721474</td>\n",
       "      <td>0.49975705</td>\n",
       "      <td>...</td>\n",
       "      <td>0.5000419</td>\n",
       "      <td>0.5002874</td>\n",
       "      <td>0.50009155</td>\n",
       "      <td>0.5039221</td>\n",
       "      <td>0.48293808</td>\n",
       "      <td>0.50004256</td>\n",
       "      <td>0.5000936</td>\n",
       "      <td>0.49980995</td>\n",
       "      <td>0.5001136</td>\n",
       "      <td>0.54511267</td>\n",
       "    </tr>\n",
       "    <tr>\n",
       "      <th>996</th>\n",
       "      <td>0.5007959</td>\n",
       "      <td>0.54576683</td>\n",
       "      <td>0.50026786</td>\n",
       "      <td>0.51253545</td>\n",
       "      <td>0.58298796</td>\n",
       "      <td>0.5403097</td>\n",
       "      <td>0.50026596</td>\n",
       "      <td>0.47838613</td>\n",
       "      <td>0.55721474</td>\n",
       "      <td>0.4997955</td>\n",
       "      <td>...</td>\n",
       "      <td>0.5000509</td>\n",
       "      <td>0.50030863</td>\n",
       "      <td>0.5002442</td>\n",
       "      <td>0.50410527</td>\n",
       "      <td>0.48353326</td>\n",
       "      <td>0.5000475</td>\n",
       "      <td>0.50009507</td>\n",
       "      <td>0.4998067</td>\n",
       "      <td>0.50009996</td>\n",
       "      <td>0.54511267</td>\n",
       "    </tr>\n",
       "    <tr>\n",
       "      <th>997</th>\n",
       "      <td>0.5007959</td>\n",
       "      <td>0.54576683</td>\n",
       "      <td>0.50026786</td>\n",
       "      <td>0.51253545</td>\n",
       "      <td>0.58298796</td>\n",
       "      <td>0.5403097</td>\n",
       "      <td>0.50026596</td>\n",
       "      <td>0.47838613</td>\n",
       "      <td>0.55721474</td>\n",
       "      <td>0.49985558</td>\n",
       "      <td>...</td>\n",
       "      <td>0.50004077</td>\n",
       "      <td>0.50031537</td>\n",
       "      <td>0.50006104</td>\n",
       "      <td>0.5041205</td>\n",
       "      <td>0.483167</td>\n",
       "      <td>0.5000524</td>\n",
       "      <td>0.5000963</td>\n",
       "      <td>0.49980435</td>\n",
       "      <td>0.5000861</td>\n",
       "      <td>0.54511267</td>\n",
       "    </tr>\n",
       "    <tr>\n",
       "      <th>998</th>\n",
       "      <td>0.5007959</td>\n",
       "      <td>0.54576683</td>\n",
       "      <td>0.50026786</td>\n",
       "      <td>0.51253545</td>\n",
       "      <td>0.58298796</td>\n",
       "      <td>0.5403097</td>\n",
       "      <td>0.50026596</td>\n",
       "      <td>0.47838613</td>\n",
       "      <td>0.55721474</td>\n",
       "      <td>0.49973458</td>\n",
       "      <td>...</td>\n",
       "      <td>0.50005263</td>\n",
       "      <td>0.5002907</td>\n",
       "      <td>0.5000458</td>\n",
       "      <td>0.50276226</td>\n",
       "      <td>0.4892409</td>\n",
       "      <td>0.5000563</td>\n",
       "      <td>0.5000971</td>\n",
       "      <td>0.49980292</td>\n",
       "      <td>0.5000738</td>\n",
       "      <td>0.54511267</td>\n",
       "    </tr>\n",
       "    <tr>\n",
       "      <th>999</th>\n",
       "      <td>0.5007959</td>\n",
       "      <td>0.54576683</td>\n",
       "      <td>0.50026786</td>\n",
       "      <td>0.51253545</td>\n",
       "      <td>0.58298796</td>\n",
       "      <td>0.5403097</td>\n",
       "      <td>0.50026596</td>\n",
       "      <td>0.47838613</td>\n",
       "      <td>0.55721474</td>\n",
       "      <td>0.49978587</td>\n",
       "      <td>...</td>\n",
       "      <td>0.5000438</td>\n",
       "      <td>0.5002957</td>\n",
       "      <td>0.5000305</td>\n",
       "      <td>0.5005799</td>\n",
       "      <td>0.4978787</td>\n",
       "      <td>0.50005716</td>\n",
       "      <td>0.5000971</td>\n",
       "      <td>0.49980238</td>\n",
       "      <td>0.5000684</td>\n",
       "      <td>0.54511267</td>\n",
       "    </tr>\n",
       "  </tbody>\n",
       "</table>\n",
       "<p>1000 rows × 86 columns</p>\n",
       "</div>"
      ]
     },
     "execution_count": 9,
     "metadata": {},
     "output_type": "execute_result"
    }
   ],
   "execution_count": 9
  },
  {
   "metadata": {
    "ExecuteTime": {
     "end_time": "2024-06-19T21:35:19.379597Z",
     "start_time": "2024-06-19T21:35:05.684040Z"
    }
   },
   "cell_type": "code",
   "source": [
    "def sliding_window(data, window_size, step_size):\n",
    "    windows = []\n",
    "    for i in range(0, data.shape[0] - window_size + 1, step_size):\n",
    "        windows.append(data.iloc[i:i + window_size].to_numpy().astype('float32'))\n",
    "    \n",
    "    x = np.array(windows).astype('float32')\n",
    "    return np.swapaxes(x,1,2)\n",
    "\n",
    "train_data = sliding_window(df_kuka_normal, WINDOW_SIZE, WINDOW_STEP_SIZE)"
   ],
   "id": "1ec9a20cb779bcc6",
   "outputs": [],
   "execution_count": 10
  },
  {
   "metadata": {
    "ExecuteTime": {
     "end_time": "2024-06-19T21:35:19.383284Z",
     "start_time": "2024-06-19T21:35:19.380402Z"
    }
   },
   "cell_type": "code",
   "source": "train_data.shape",
   "id": "d49c9dc948643360",
   "outputs": [
    {
     "data": {
      "text/plain": [
       "(233783, 86, 10)"
      ]
     },
     "execution_count": 11,
     "metadata": {},
     "output_type": "execute_result"
    }
   ],
   "execution_count": 11
  },
  {
   "metadata": {
    "ExecuteTime": {
     "end_time": "2024-06-19T21:36:01.718713Z",
     "start_time": "2024-06-19T21:35:19.384469Z"
    }
   },
   "cell_type": "code",
   "source": [
    "autoencoder: AutoEncoder = AutoEncoder(WINDOW_SIZE)\n",
    "autoencoder.build(train_data.shape)\n",
    "\n",
    "train_dataset = tf.data.Dataset.from_tensor_slices((train_data, train_data)).repeat().batch(256)\n",
    "\n",
    "optimizer = tf.keras.optimizers.Adam(learning_rate=LEARNING_RATE)\n",
    "callback = tf.keras.callbacks.EarlyStopping(monitor='loss', patience=3)\n",
    "tensorboard_callback = tf.keras.callbacks.TensorBoard(log_dir=log_dir, histogram_freq=1)\n",
    "\n",
    "autoencoder.compile(optimizer=optimizer, loss='mse')\n",
    "autoencoder.fit(train_dataset, steps_per_epoch=STEPS_PER_EPOCH, epochs=EPOCHS, callbacks=[callback, tensorboard_callback])\n",
    "autoencoder.summary()"
   ],
   "id": "b7c75b5eb5902a27",
   "outputs": [
    {
     "name": "stderr",
     "output_type": "stream",
     "text": [
      "2024-06-19 23:35:19.664837: I metal_plugin/src/device/metal_device.cc:1154] Metal device set to: Apple M1 Max\n",
      "2024-06-19 23:35:19.664876: I metal_plugin/src/device/metal_device.cc:296] systemMemory: 32.00 GB\n",
      "2024-06-19 23:35:19.664914: I metal_plugin/src/device/metal_device.cc:313] maxCacheSize: 10.67 GB\n",
      "2024-06-19 23:35:19.664939: I tensorflow/core/common_runtime/pluggable_device/pluggable_device_factory.cc:305] Could not identify NUMA node of platform GPU ID 0, defaulting to 0. Your kernel may not have been built with NUMA support.\n",
      "2024-06-19 23:35:19.664958: I tensorflow/core/common_runtime/pluggable_device/pluggable_device_factory.cc:271] Created TensorFlow device (/job:localhost/replica:0/task:0/device:GPU:0 with 0 MB memory) -> physical PluggableDevice (device: 0, name: METAL, pci bus id: <undefined>)\n"
     ]
    },
    {
     "name": "stdout",
     "output_type": "stream",
     "text": [
      "Epoch 1/30\n"
     ]
    },
    {
     "name": "stderr",
     "output_type": "stream",
     "text": [
      "2024-06-19 23:35:22.265815: I tensorflow/core/grappler/optimizers/custom_graph_optimizer_registry.cc:117] Plugin optimizer for device_type GPU is enabled.\n"
     ]
    },
    {
     "name": "stdout",
     "output_type": "stream",
     "text": [
      "\u001B[1m100/100\u001B[0m \u001B[32m━━━━━━━━━━━━━━━━━━━━\u001B[0m\u001B[37m\u001B[0m \u001B[1m10s\u001B[0m 47ms/step - loss: 0.0816\n",
      "Epoch 2/30\n",
      "\u001B[1m100/100\u001B[0m \u001B[32m━━━━━━━━━━━━━━━━━━━━\u001B[0m\u001B[37m\u001B[0m \u001B[1m4s\u001B[0m 43ms/step - loss: 0.0020\n",
      "Epoch 3/30\n",
      "\u001B[1m100/100\u001B[0m \u001B[32m━━━━━━━━━━━━━━━━━━━━\u001B[0m\u001B[37m\u001B[0m \u001B[1m5s\u001B[0m 46ms/step - loss: 2.9333e-04\n",
      "Epoch 4/30\n",
      "\u001B[1m100/100\u001B[0m \u001B[32m━━━━━━━━━━━━━━━━━━━━\u001B[0m\u001B[37m\u001B[0m \u001B[1m5s\u001B[0m 45ms/step - loss: 4.9424e-05\n",
      "Epoch 5/30\n",
      "\u001B[1m100/100\u001B[0m \u001B[32m━━━━━━━━━━━━━━━━━━━━\u001B[0m\u001B[37m\u001B[0m \u001B[1m4s\u001B[0m 44ms/step - loss: 2.6025e-05\n",
      "Epoch 6/30\n",
      "\u001B[1m100/100\u001B[0m \u001B[32m━━━━━━━━━━━━━━━━━━━━\u001B[0m\u001B[37m\u001B[0m \u001B[1m4s\u001B[0m 44ms/step - loss: 3.1099e-05\n",
      "Epoch 7/30\n",
      "\u001B[1m100/100\u001B[0m \u001B[32m━━━━━━━━━━━━━━━━━━━━\u001B[0m\u001B[37m\u001B[0m \u001B[1m4s\u001B[0m 44ms/step - loss: 3.7214e-05\n",
      "Epoch 8/30\n",
      "\u001B[1m100/100\u001B[0m \u001B[32m━━━━━━━━━━━━━━━━━━━━\u001B[0m\u001B[37m\u001B[0m \u001B[1m4s\u001B[0m 45ms/step - loss: 2.2038e-05\n"
     ]
    },
    {
     "data": {
      "text/plain": [
       "\u001B[1mModel: \"auto_encoder\"\u001B[0m\n"
      ],
      "text/html": [
       "<pre style=\"white-space:pre;overflow-x:auto;line-height:normal;font-family:Menlo,'DejaVu Sans Mono',consolas,'Courier New',monospace\"><span style=\"font-weight: bold\">Model: \"auto_encoder\"</span>\n",
       "</pre>\n"
      ]
     },
     "metadata": {},
     "output_type": "display_data"
    },
    {
     "data": {
      "text/plain": [
       "┏━━━━━━━━━━━━━━━━━━━━━━━━━━━━━━━━━┳━━━━━━━━━━━━━━━━━━━━━━━━┳━━━━━━━━━━━━━━━┓\n",
       "┃\u001B[1m \u001B[0m\u001B[1mLayer (type)                   \u001B[0m\u001B[1m \u001B[0m┃\u001B[1m \u001B[0m\u001B[1mOutput Shape          \u001B[0m\u001B[1m \u001B[0m┃\u001B[1m \u001B[0m\u001B[1m      Param #\u001B[0m\u001B[1m \u001B[0m┃\n",
       "┡━━━━━━━━━━━━━━━━━━━━━━━━━━━━━━━━━╇━━━━━━━━━━━━━━━━━━━━━━━━╇━━━━━━━━━━━━━━━┩\n",
       "│ encoder (\u001B[38;5;33mEncoder\u001B[0m)               │ ?                      │       \u001B[38;5;34m582,420\u001B[0m │\n",
       "├─────────────────────────────────┼────────────────────────┼───────────────┤\n",
       "│ decoder (\u001B[38;5;33mDecoder\u001B[0m)               │ ?                      │       \u001B[38;5;34m582,110\u001B[0m │\n",
       "└─────────────────────────────────┴────────────────────────┴───────────────┘\n"
      ],
      "text/html": [
       "<pre style=\"white-space:pre;overflow-x:auto;line-height:normal;font-family:Menlo,'DejaVu Sans Mono',consolas,'Courier New',monospace\">┏━━━━━━━━━━━━━━━━━━━━━━━━━━━━━━━━━┳━━━━━━━━━━━━━━━━━━━━━━━━┳━━━━━━━━━━━━━━━┓\n",
       "┃<span style=\"font-weight: bold\"> Layer (type)                    </span>┃<span style=\"font-weight: bold\"> Output Shape           </span>┃<span style=\"font-weight: bold\">       Param # </span>┃\n",
       "┡━━━━━━━━━━━━━━━━━━━━━━━━━━━━━━━━━╇━━━━━━━━━━━━━━━━━━━━━━━━╇━━━━━━━━━━━━━━━┩\n",
       "│ encoder (<span style=\"color: #0087ff; text-decoration-color: #0087ff\">Encoder</span>)               │ ?                      │       <span style=\"color: #00af00; text-decoration-color: #00af00\">582,420</span> │\n",
       "├─────────────────────────────────┼────────────────────────┼───────────────┤\n",
       "│ decoder (<span style=\"color: #0087ff; text-decoration-color: #0087ff\">Decoder</span>)               │ ?                      │       <span style=\"color: #00af00; text-decoration-color: #00af00\">582,110</span> │\n",
       "└─────────────────────────────────┴────────────────────────┴───────────────┘\n",
       "</pre>\n"
      ]
     },
     "metadata": {},
     "output_type": "display_data"
    },
    {
     "data": {
      "text/plain": [
       "\u001B[1m Total params: \u001B[0m\u001B[38;5;34m3,491,192\u001B[0m (13.32 MB)\n"
      ],
      "text/html": [
       "<pre style=\"white-space:pre;overflow-x:auto;line-height:normal;font-family:Menlo,'DejaVu Sans Mono',consolas,'Courier New',monospace\"><span style=\"font-weight: bold\"> Total params: </span><span style=\"color: #00af00; text-decoration-color: #00af00\">3,491,192</span> (13.32 MB)\n",
       "</pre>\n"
      ]
     },
     "metadata": {},
     "output_type": "display_data"
    },
    {
     "data": {
      "text/plain": [
       "\u001B[1m Trainable params: \u001B[0m\u001B[38;5;34m1,163,330\u001B[0m (4.44 MB)\n"
      ],
      "text/html": [
       "<pre style=\"white-space:pre;overflow-x:auto;line-height:normal;font-family:Menlo,'DejaVu Sans Mono',consolas,'Courier New',monospace\"><span style=\"font-weight: bold\"> Trainable params: </span><span style=\"color: #00af00; text-decoration-color: #00af00\">1,163,330</span> (4.44 MB)\n",
       "</pre>\n"
      ]
     },
     "metadata": {},
     "output_type": "display_data"
    },
    {
     "data": {
      "text/plain": [
       "\u001B[1m Non-trainable params: \u001B[0m\u001B[38;5;34m1,200\u001B[0m (4.69 KB)\n"
      ],
      "text/html": [
       "<pre style=\"white-space:pre;overflow-x:auto;line-height:normal;font-family:Menlo,'DejaVu Sans Mono',consolas,'Courier New',monospace\"><span style=\"font-weight: bold\"> Non-trainable params: </span><span style=\"color: #00af00; text-decoration-color: #00af00\">1,200</span> (4.69 KB)\n",
       "</pre>\n"
      ]
     },
     "metadata": {},
     "output_type": "display_data"
    },
    {
     "data": {
      "text/plain": [
       "\u001B[1m Optimizer params: \u001B[0m\u001B[38;5;34m2,326,662\u001B[0m (8.88 MB)\n"
      ],
      "text/html": [
       "<pre style=\"white-space:pre;overflow-x:auto;line-height:normal;font-family:Menlo,'DejaVu Sans Mono',consolas,'Courier New',monospace\"><span style=\"font-weight: bold\"> Optimizer params: </span><span style=\"color: #00af00; text-decoration-color: #00af00\">2,326,662</span> (8.88 MB)\n",
       "</pre>\n"
      ]
     },
     "metadata": {},
     "output_type": "display_data"
    }
   ],
   "execution_count": 12
  },
  {
   "metadata": {
    "ExecuteTime": {
     "end_time": "2024-06-19T21:36:01.722602Z",
     "start_time": "2024-06-19T21:36:01.719661Z"
    }
   },
   "cell_type": "code",
   "source": [
    "\"\"\"\n",
    "start_time = time()\n",
    "encoded_data = autoencoder.encoder(train_data).numpy()\n",
    "print(train_data.shape)\n",
    "decoded_data = autoencoder.decoder(encoded_data).numpy()\n",
    "print(decoded_data.shape)\n",
    "end_time = time()\n",
    "print(f'Time taken to decode data: {end_time - start_time}')\n",
    "\"\"\""
   ],
   "id": "9350c3f55474edcd",
   "outputs": [
    {
     "data": {
      "text/plain": [
       "\"\\nstart_time = time()\\nencoded_data = autoencoder.encoder(train_data).numpy()\\nprint(train_data.shape)\\ndecoded_data = autoencoder.decoder(encoded_data).numpy()\\nprint(decoded_data.shape)\\nend_time = time()\\nprint(f'Time taken to decode data: {end_time - start_time}')\\n\""
      ]
     },
     "execution_count": 13,
     "metadata": {},
     "output_type": "execute_result"
    }
   ],
   "execution_count": 13
  },
  {
   "metadata": {
    "ExecuteTime": {
     "end_time": "2024-06-19T21:36:01.727196Z",
     "start_time": "2024-06-19T21:36:01.723819Z"
    }
   },
   "cell_type": "code",
   "source": "train_data[0, :, 0]",
   "id": "8b3179895f24a149",
   "outputs": [
    {
     "data": {
      "text/plain": [
       "array([0.5000458 , 0.54084253, 0.50029004, 0.5125477 , 0.5802353 ,\n",
       "       0.53162146, 0.5002393 , 0.47421497, 0.5571351 , 0.49987328,\n",
       "       0.4999928 , 0.49985972, 0.5000458 , 0.5000458 , 0.5000458 ,\n",
       "       0.49981418, 0.5000542 , 0.5001344 , 0.5000766 , 0.5360813 ,\n",
       "       0.50016785, 0.5000545 , 0.5002559 , 0.5000458 , 0.5000458 ,\n",
       "       0.5000458 , 0.5001128 , 0.5000443 , 0.50027835, 0.5001085 ,\n",
       "       0.5360813 , 0.50002956, 0.500029  , 0.499791  , 0.5000458 ,\n",
       "       0.5000458 , 0.5000458 , 0.4999896 , 0.4998024 , 0.50005543,\n",
       "       0.50004005, 0.5360813 , 0.5000764 , 0.4999006 , 0.5002448 ,\n",
       "       0.5000458 , 0.5000458 , 0.5000458 , 0.5000091 , 0.49997592,\n",
       "       0.5002282 , 0.50019747, 0.5360813 , 0.5000523 , 0.49986607,\n",
       "       0.4998564 , 0.5000458 , 0.5000458 , 0.5000458 , 0.49981517,\n",
       "       0.5000719 , 0.50003195, 0.5001377 , 0.5360813 , 0.50005287,\n",
       "       0.50009304, 0.5003028 , 0.5000458 , 0.5000458 , 0.5000458 ,\n",
       "       0.50006306, 0.5000607 , 0.5002365 , 0.5002058 , 0.54511267,\n",
       "       0.5000468 , 0.5000448 , 0.50029606, 0.5000458 , 0.5000458 ,\n",
       "       0.5000458 , 0.50002486, 0.5000856 , 0.49982718, 0.50015855,\n",
       "       0.54511267], dtype=float32)"
      ]
     },
     "execution_count": 14,
     "metadata": {},
     "output_type": "execute_result"
    }
   ],
   "execution_count": 14
  },
  {
   "metadata": {
    "ExecuteTime": {
     "end_time": "2024-06-19T21:36:30.624325Z",
     "start_time": "2024-06-19T21:36:01.728332Z"
    }
   },
   "cell_type": "code",
   "source": [
    "start_time = time()\n",
    "normal_reconstructions = autoencoder.predict(train_data)\n",
    "end_time = time()\n",
    "print(f'Time taken to reconstruct: {end_time - start_time}')\n",
    "\n",
    "normal_train_loss = tf.keras.losses.mse(normal_reconstructions, train_data)"
   ],
   "id": "878123c92d54ff3e",
   "outputs": [
    {
     "name": "stdout",
     "output_type": "stream",
     "text": [
      "\u001B[1m7306/7306\u001B[0m \u001B[32m━━━━━━━━━━━━━━━━━━━━\u001B[0m\u001B[37m\u001B[0m \u001B[1m24s\u001B[0m 3ms/step\n",
      "Time taken to reconstruct: 28.288286924362183\n"
     ]
    }
   ],
   "execution_count": 15
  },
  {
   "metadata": {
    "ExecuteTime": {
     "end_time": "2024-06-19T21:36:30.762923Z",
     "start_time": "2024-06-19T21:36:30.626555Z"
    }
   },
   "cell_type": "code",
   "source": [
    "sample_inside_window = 4 # from 0 to 10\n",
    "window_number = 38000 # from 0 to the number of windows created\n",
    "\n",
    "# Plot the reconstruction error for each feature\n",
    "plt.plot(train_data[window_number, :, sample_inside_window], 'b')\n",
    "plt.plot(normal_reconstructions[window_number, :, sample_inside_window], 'r')\n",
    "plt.fill_between(np.arange(86), normal_reconstructions[window_number, :, sample_inside_window], train_data[window_number, :, sample_inside_window], color='lightcoral')\n",
    "plt.legend(labels=[\"Input\", \"Reconstruction\", \"Error\"])\n",
    "plt.show()"
   ],
   "id": "fb860ae51abddfe6",
   "outputs": [
    {
     "data": {
      "text/plain": [
       "<Figure size 640x480 with 1 Axes>"
      ],
      "image/png": "[encoded data removed]"
     },
     "metadata": {},
     "output_type": "display_data"
    }
   ],
   "execution_count": 16
  },
  {
   "metadata": {
    "ExecuteTime": {
     "end_time": "2024-06-19T21:36:30.829407Z",
     "start_time": "2024-06-19T21:36:30.765726Z"
    }
   },
   "cell_type": "code",
   "source": [
    "mean_mse = np.mean(normal_train_loss, axis=1)\n",
    "mean_mse[None, :].shape"
   ],
   "id": "f581230840b67081",
   "outputs": [
    {
     "data": {
      "text/plain": [
       "(1, 233783)"
      ]
     },
     "execution_count": 17,
     "metadata": {},
     "output_type": "execute_result"
    }
   ],
   "execution_count": 17
  },
  {
   "metadata": {
    "ExecuteTime": {
     "end_time": "2024-06-19T21:36:30.922413Z",
     "start_time": "2024-06-19T21:36:30.830326Z"
    }
   },
   "cell_type": "code",
   "source": [
    "plt.hist(mean_mse[:, None], bins=20)\n",
    "plt.xlabel(\"Train loss\")\n",
    "plt.ylabel(\"No of examples\")\n",
    "plt.show()"
   ],
   "id": "75ec99950346ad5e",
   "outputs": [
    {
     "data": {
      "text/plain": [
       "<Figure size 640x480 with 1 Axes>"
      ],
      "image/png": "[encoded data removed]"
     },
     "metadata": {},
     "output_type": "display_data"
    }
   ],
   "execution_count": 18
  },
  {
   "metadata": {
    "ExecuteTime": {
     "end_time": "2024-06-19T21:36:30.929612Z",
     "start_time": "2024-06-19T21:36:30.924435Z"
    }
   },
   "cell_type": "code",
   "source": [
    "threshold = np.mean(mean_mse) + np.std(mean_mse)\n",
    "print(\"Threshold: \", threshold)"
   ],
   "id": "998a82cb5e562fbf",
   "outputs": [
    {
     "name": "stdout",
     "output_type": "stream",
     "text": [
      "Threshold:  5.7781428e-05\n"
     ]
    }
   ],
   "execution_count": 19
  },
  {
   "metadata": {
    "ExecuteTime": {
     "end_time": "2024-06-19T21:36:38.998675Z",
     "start_time": "2024-06-19T21:36:30.930697Z"
    }
   },
   "cell_type": "code",
   "source": [
    "test_data = sliding_window(df_kuka_slow, WINDOW_SIZE, WINDOW_STEP_SIZE)\n",
    "\n",
    "reconstructions = autoencoder.predict(test_data)\n",
    "test_loss = tf.keras.losses.mse(reconstructions, test_data)\n",
    "\n",
    "mean_mse_test = np.mean(test_loss, axis=1)\n",
    "\n",
    "plt.hist(mean_mse_test[:, None], bins=50)\n",
    "plt.xlabel(\"Test loss\")\n",
    "plt.ylabel(\"No of examples\")\n",
    "plt.show()"
   ],
   "id": "2727d98b2beeb818",
   "outputs": [
    {
     "name": "stdout",
     "output_type": "stream",
     "text": [
      "\u001B[1m1298/1298\u001B[0m \u001B[32m━━━━━━━━━━━━━━━━━━━━\u001B[0m\u001B[37m\u001B[0m \u001B[1m5s\u001B[0m 3ms/step\n"
     ]
    },
    {
     "data": {
      "text/plain": [
       "<Figure size 640x480 with 1 Axes>"
      ],
      "image/png": "[encoded data removed]"
     },
     "metadata": {},
     "output_type": "display_data"
    }
   ],
   "execution_count": 20
  },
  {
   "metadata": {
    "ExecuteTime": {
     "end_time": "2024-06-19T21:36:39.003336Z",
     "start_time": "2024-06-19T21:36:38.999825Z"
    }
   },
   "cell_type": "code",
   "source": [
    "def predict(model, data, threshold):\n",
    "  reconstructions = model(data)\n",
    "  loss = tf.keras.losses.mse(reconstructions, data)\n",
    "  mean_mse_test = np.mean(loss, axis=1)\n",
    "  return tf.math.less(mean_mse_test, threshold)\n",
    "\n",
    "def print_stats(predictions, labels):\n",
    "  print(\"Accuracy = {}\".format(accuracy_score(labels, predictions)))\n",
    "  print(\"Precision = {}\".format(precision_score(labels, predictions)))\n",
    "  print(\"Recall = {}\".format(recall_score(labels, predictions)))\n",
    "  print(\"F1 = {}\".format(f1_score(labels, predictions)))"
   ],
   "id": "205daa7a702b1f17",
   "outputs": [],
   "execution_count": 21
  },
  {
   "metadata": {
    "ExecuteTime": {
     "end_time": "2024-06-19T21:36:40.091423Z",
     "start_time": "2024-06-19T21:36:39.008590Z"
    }
   },
   "cell_type": "code",
   "source": [
    "preds = predict(autoencoder, test_data, threshold)\n",
    "print_stats(np.bitwise_not(preds), np.ones_like(preds))"
   ],
   "id": "9b9d1bf2b5ec319",
   "outputs": [
    {
     "name": "stdout",
     "output_type": "stream",
     "text": [
      "Accuracy = 1.0\n",
      "Precision = 1.0\n",
      "Recall = 1.0\n",
      "F1 = 1.0\n"
     ]
    }
   ],
   "execution_count": 22
  },
  {
   "metadata": {
    "ExecuteTime": {
     "end_time": "2024-06-19T21:36:40.095918Z",
     "start_time": "2024-06-19T21:36:40.092421Z"
    }
   },
   "cell_type": "code",
   "source": [
    "print(preds.shape)\n",
    "print(np.zeros_like(preds).shape)\n",
    "preds"
   ],
   "id": "11a178168445c923",
   "outputs": [
    {
     "name": "stdout",
     "output_type": "stream",
     "text": [
      "(41529,)\n",
      "(41529,)\n"
     ]
    },
    {
     "data": {
      "text/plain": [
       "<tf.Tensor: shape=(41529,), dtype=bool, numpy=array([False, False, False, ..., False, False, False])>"
      ]
     },
     "execution_count": 23,
     "metadata": {},
     "output_type": "execute_result"
    }
   ],
   "execution_count": 23
  },
  {
   "metadata": {
    "ExecuteTime": {
     "end_time": "2024-06-19T21:36:40.100549Z",
     "start_time": "2024-06-19T21:36:40.097047Z"
    }
   },
   "cell_type": "code",
   "source": "np.where(preds == False)[0].shape",
   "id": "f9f9118c5ee5755",
   "outputs": [
    {
     "data": {
      "text/plain": [
       "(41529,)"
      ]
     },
     "execution_count": 24,
     "metadata": {},
     "output_type": "execute_result"
    }
   ],
   "execution_count": 24
  },
  {
   "metadata": {
    "ExecuteTime": {
     "end_time": "2024-06-19T21:36:40.111006Z",
     "start_time": "2024-06-19T21:36:40.101452Z"
    }
   },
   "cell_type": "code",
   "source": [
    "class Discriminator(tf.keras.Model):\n",
    "    def __init__(self, window_size):\n",
    "        super(Discriminator, self).__init__()\n",
    "        # n_feature = 86\n",
    "        # Input size: (n_feature, window_size)\n",
    "        self.conv1d_1 = tf.keras.layers.Conv1D(filters=window_size*2, kernel_size=7, strides=1, padding='valid')\n",
    "        # size: (80, window_size*2)\n",
    "        self.conv1d_2 = tf.keras.layers.Conv1D(filters=window_size*4, kernel_size=4, strides=2, padding='same')\n",
    "        # size: (40, window_size*4)\n",
    "        self.conv1d_3 = tf.keras.layers.Conv1D(filters=window_size*8, kernel_size=4, strides=2, padding='same')\n",
    "        # size: (20, window_size*8)\n",
    "        self.conv1d_4 = tf.keras.layers.Conv1D(filters=window_size*16, kernel_size=4, strides=2, padding='same')\n",
    "        # size: (10, window_size*16)\n",
    "        self.conv1d_5 = tf.keras.layers.Conv1D(filters=window_size*32, kernel_size=10, strides=1, padding='valid')\n",
    "        # size: (1, window_size*32)\n",
    "        \n",
    "        self.flatten = tf.keras.layers.Flatten()\n",
    "        \n",
    "        self.dense_1 = tf.keras.layers.Dense(window_size*8, activation='relu')\n",
    "        self.dense_2 = tf.keras.layers.Dense(window_size*4, activation='relu')\n",
    "        self.dense_3 = tf.keras.layers.Dense(window_size, activation='relu')\n",
    "        \n",
    "        self.softmax_1 = tf.keras.layers.Dense(1, activation='sigmoid')\n",
    "        \n",
    "        self.batch_norm_1 = tf.keras.layers.BatchNormalization()\n",
    "        self.batch_norm_2 = tf.keras.layers.BatchNormalization()\n",
    "        self.batch_norm_3 = tf.keras.layers.BatchNormalization()\n",
    "        self.batch_norm_4 = tf.keras.layers.BatchNormalization()\n",
    "        self.batch_norm_5 = tf.keras.layers.BatchNormalization()\n",
    "        self.batch_norm_6 = tf.keras.layers.BatchNormalization()\n",
    "        self.batch_norm_7 = tf.keras.layers.BatchNormalization()\n",
    "\n",
    "    def build(self, input_shape):\n",
    "        super(Discriminator, self).build(input_shape)\n",
    "\n",
    "    def call(self, X):\n",
    "        X = self.conv1d_1(X)\n",
    "        X = self.batch_norm_1(X)\n",
    "        X = tf.nn.leaky_relu(X)\n",
    "\n",
    "        X = self.conv1d_2(X)\n",
    "        X = self.batch_norm_2(X)\n",
    "        X = tf.nn.leaky_relu(X)\n",
    "\n",
    "        X = self.conv1d_3(X)\n",
    "        X = self.batch_norm_3(X)\n",
    "        X = tf.nn.leaky_relu(X)\n",
    "\n",
    "        X = self.conv1d_4(X)\n",
    "        X = self.batch_norm_4(X)\n",
    "        X = tf.nn.leaky_relu(X)\n",
    "        \n",
    "        X = self.conv1d_5(X)\n",
    "        X = self.batch_norm_5(X)\n",
    "        X = tf.nn.leaky_relu(X)\n",
    "        \n",
    "        X = self.flatten(X)\n",
    "        \n",
    "        X = self.dense_1(X)\n",
    "        X = self.batch_norm_6(X)\n",
    "        \n",
    "        X = self.dense_2(X)\n",
    "        X = self.batch_norm_7(X)\n",
    "        \n",
    "        X = self.dense_3(X)\n",
    "        X = self.softmax_1(X)\n",
    "        \n",
    "        return X"
   ],
   "id": "84d848eab8afda93",
   "outputs": [],
   "execution_count": 25
  },
  {
   "metadata": {
    "ExecuteTime": {
     "end_time": "2024-06-19T21:53:29.860166Z",
     "start_time": "2024-06-19T21:53:29.854546Z"
    }
   },
   "cell_type": "code",
   "source": [
    "class AdversarialAutoEncoder(tf.keras.Model):\n",
    "    def __init__(self, window_size):\n",
    "        super(AdversarialAutoEncoder, self).__init__()\n",
    "        self.autoencoder = AutoEncoder(window_size)\n",
    "        self.discriminator = Discriminator(window_size)\n",
    "        self.d_optimizer = None\n",
    "        self.ae_optimizer = None\n",
    "    \n",
    "    def build(self, input_shape):\n",
    "        super(AdversarialAutoEncoder, self).build(input_shape)\n",
    "    \n",
    "    def compile(self, d_optimizer, ae_optimizer):\n",
    "        super(AdversarialAutoEncoder, self).compile()\n",
    "        self.d_optimizer = d_optimizer\n",
    "        self.ae_optimizer = ae_optimizer\n",
    "    \n",
    "    def train_step(self, data):\n",
    "        real_data, _ = data\n",
    "        \n",
    "        with tf.GradientTape() as gen_tape, tf.GradientTape() as disc_tape:\n",
    "            generated_data = self.autoencoder.call(real_data)\n",
    "            real_output = self.discriminator.call(real_data)\n",
    "            fake_output = self.discriminator.call(generated_data)\n",
    "            \n",
    "            mse = tf.keras.losses.mse(generated_data, real_data)\n",
    "            \n",
    "            autoencoder_loss = tf.reduce_mean(tf.nn.relu(1 - fake_output)) + tf.reduce_mean(mse)\n",
    "            discriminator_loss = tf.reduce_mean(tf.keras.losses.binary_crossentropy(real_output, fake_output))\n",
    "        \n",
    "        gradients_of_generator = gen_tape.gradient(autoencoder_loss, self.autoencoder.trainable_variables)\n",
    "        gradients_of_discriminator = disc_tape.gradient(discriminator_loss, self.discriminator.trainable_variables)\n",
    "        \n",
    "        self.ae_optimizer.apply_gradients(zip(gradients_of_generator, self.autoencoder.trainable_variables))\n",
    "        self.d_optimizer.apply_gradients(zip(gradients_of_discriminator, self.discriminator.trainable_variables))\n",
    "        \n",
    "        return {\n",
    "            \"d_loss\": discriminator_loss,\n",
    "            \"ae_loss\": autoencoder_loss\n",
    "        }"
   ],
   "id": "f59e287c8c2eb457",
   "outputs": [],
   "execution_count": 49
  },
  {
   "metadata": {
    "ExecuteTime": {
     "end_time": "2024-06-19T22:01:47.835901Z",
     "start_time": "2024-06-19T21:53:30.360987Z"
    }
   },
   "cell_type": "code",
   "source": [
    "aae: AdversarialAutoEncoder = AdversarialAutoEncoder(WINDOW_SIZE)\n",
    "aae.build(train_data.shape)\n",
    "\n",
    "train_dataset = tf.data.Dataset.from_tensor_slices((train_data, train_data)).repeat().batch(256)\n",
    "\n",
    "autoencoder_optimizer = tf.keras.optimizers.Adam(learning_rate=LEARNING_RATE)\n",
    "discriminator_optimizer = tf.keras.optimizers.Adam(learning_rate=LEARNING_RATE)\n",
    "aae.compile(discriminator_optimizer, autoencoder_optimizer)\n",
    "\n",
    "tensorboard_callback = tf.keras.callbacks.TensorBoard(log_dir=log_dir, histogram_freq=1)\n",
    "\n",
    "aae.fit(train_dataset, steps_per_epoch=STEPS_PER_EPOCH, epochs=EPOCHS, callbacks=[tensorboard_callback])\n",
    "aae.summary()"
   ],
   "id": "33cbe9da4bc2c3b5",
   "outputs": [
    {
     "name": "stdout",
     "output_type": "stream",
     "text": [
      "Epoch 1/30\n",
      "\u001B[1m100/100\u001B[0m \u001B[32m━━━━━━━━━━━━━━━━━━━━\u001B[0m\u001B[37m\u001B[0m \u001B[1m0s\u001B[0m 170ms/step - ae_loss: 1.0363 - d_loss: 0.0444"
     ]
    },
    {
     "name": "stderr",
     "output_type": "stream",
     "text": [
      "/Users/edoardofranco/Documents/PoliTo/Labs_and_Exercises/MLinApp/ML_application_project/.venv/lib/python3.10/site-packages/keras/src/callbacks/early_stopping.py:155: UserWarning: Early stopping conditioned on metric `loss` which is not available. Available metrics are: ae_loss,d_loss\n",
      "  current = self.get_monitor_value(logs)\n"
     ]
    },
    {
     "name": "stdout",
     "output_type": "stream",
     "text": [
      "\u001B[1m100/100\u001B[0m \u001B[32m━━━━━━━━━━━━━━━━━━━━\u001B[0m\u001B[37m\u001B[0m \u001B[1m29s\u001B[0m 174ms/step - ae_loss: 1.0360 - d_loss: 0.0439\n",
      "Epoch 2/30\n",
      "\u001B[1m100/100\u001B[0m \u001B[32m━━━━━━━━━━━━━━━━━━━━\u001B[0m\u001B[37m\u001B[0m \u001B[1m16s\u001B[0m 159ms/step - ae_loss: 1.0020 - d_loss: 0.0000e+00\n",
      "Epoch 3/30\n",
      "\u001B[1m100/100\u001B[0m \u001B[32m━━━━━━━━━━━━━━━━━━━━\u001B[0m\u001B[37m\u001B[0m \u001B[1m16s\u001B[0m 160ms/step - ae_loss: 1.0004 - d_loss: 0.0000e+00\n",
      "Epoch 4/30\n",
      "\u001B[1m100/100\u001B[0m \u001B[32m━━━━━━━━━━━━━━━━━━━━\u001B[0m\u001B[37m\u001B[0m \u001B[1m16s\u001B[0m 155ms/step - ae_loss: 1.0001 - d_loss: 0.0000e+00\n",
      "Epoch 5/30\n",
      "\u001B[1m100/100\u001B[0m \u001B[32m━━━━━━━━━━━━━━━━━━━━\u001B[0m\u001B[37m\u001B[0m \u001B[1m16s\u001B[0m 156ms/step - ae_loss: 1.0001 - d_loss: 0.0000e+00\n",
      "Epoch 6/30\n",
      "\u001B[1m100/100\u001B[0m \u001B[32m━━━━━━━━━━━━━━━━━━━━\u001B[0m\u001B[37m\u001B[0m \u001B[1m16s\u001B[0m 161ms/step - ae_loss: 1.0001 - d_loss: 0.0000e+00\n",
      "Epoch 7/30\n",
      "\u001B[1m100/100\u001B[0m \u001B[32m━━━━━━━━━━━━━━━━━━━━\u001B[0m\u001B[37m\u001B[0m \u001B[1m16s\u001B[0m 159ms/step - ae_loss: 1.0001 - d_loss: 0.0000e+00\n",
      "Epoch 8/30\n",
      "\u001B[1m100/100\u001B[0m \u001B[32m━━━━━━━━━━━━━━━━━━━━\u001B[0m\u001B[37m\u001B[0m \u001B[1m16s\u001B[0m 163ms/step - ae_loss: 1.0000 - d_loss: 0.0000e+00\n",
      "Epoch 9/30\n",
      "\u001B[1m100/100\u001B[0m \u001B[32m━━━━━━━━━━━━━━━━━━━━\u001B[0m\u001B[37m\u001B[0m \u001B[1m17s\u001B[0m 166ms/step - ae_loss: 1.0001 - d_loss: 0.0000e+00\n",
      "Epoch 10/30\n",
      "\u001B[1m100/100\u001B[0m \u001B[32m━━━━━━━━━━━━━━━━━━━━\u001B[0m\u001B[37m\u001B[0m \u001B[1m16s\u001B[0m 161ms/step - ae_loss: 1.0000 - d_loss: 0.0000e+00\n",
      "Epoch 11/30\n",
      "\u001B[1m100/100\u001B[0m \u001B[32m━━━━━━━━━━━━━━━━━━━━\u001B[0m\u001B[37m\u001B[0m \u001B[1m16s\u001B[0m 161ms/step - ae_loss: 1.0000 - d_loss: 0.0000e+00\n",
      "Epoch 12/30\n",
      "\u001B[1m100/100\u001B[0m \u001B[32m━━━━━━━━━━━━━━━━━━━━\u001B[0m\u001B[37m\u001B[0m \u001B[1m16s\u001B[0m 165ms/step - ae_loss: 1.0000 - d_loss: 0.0000e+00\n",
      "Epoch 13/30\n",
      "\u001B[1m100/100\u001B[0m \u001B[32m━━━━━━━━━━━━━━━━━━━━\u001B[0m\u001B[37m\u001B[0m \u001B[1m16s\u001B[0m 162ms/step - ae_loss: 1.0000 - d_loss: 0.0000e+00\n",
      "Epoch 14/30\n",
      "\u001B[1m100/100\u001B[0m \u001B[32m━━━━━━━━━━━━━━━━━━━━\u001B[0m\u001B[37m\u001B[0m \u001B[1m16s\u001B[0m 158ms/step - ae_loss: 1.0000 - d_loss: 0.0000e+00\n",
      "Epoch 15/30\n",
      "\u001B[1m100/100\u001B[0m \u001B[32m━━━━━━━━━━━━━━━━━━━━\u001B[0m\u001B[37m\u001B[0m \u001B[1m16s\u001B[0m 165ms/step - ae_loss: 1.0000 - d_loss: 0.0000e+00\n",
      "Epoch 16/30\n",
      "\u001B[1m100/100\u001B[0m \u001B[32m━━━━━━━━━━━━━━━━━━━━\u001B[0m\u001B[37m\u001B[0m \u001B[1m16s\u001B[0m 164ms/step - ae_loss: 1.0000 - d_loss: 0.0000e+00\n",
      "Epoch 17/30\n",
      "\u001B[1m100/100\u001B[0m \u001B[32m━━━━━━━━━━━━━━━━━━━━\u001B[0m\u001B[37m\u001B[0m \u001B[1m17s\u001B[0m 166ms/step - ae_loss: 1.0000 - d_loss: 0.0000e+00\n",
      "Epoch 18/30\n",
      "\u001B[1m100/100\u001B[0m \u001B[32m━━━━━━━━━━━━━━━━━━━━\u001B[0m\u001B[37m\u001B[0m \u001B[1m16s\u001B[0m 163ms/step - ae_loss: 1.0000 - d_loss: 0.0000e+00\n",
      "Epoch 19/30\n",
      "\u001B[1m100/100\u001B[0m \u001B[32m━━━━━━━━━━━━━━━━━━━━\u001B[0m\u001B[37m\u001B[0m \u001B[1m16s\u001B[0m 159ms/step - ae_loss: 1.0000 - d_loss: 0.0000e+00\n",
      "Epoch 20/30\n",
      "\u001B[1m100/100\u001B[0m \u001B[32m━━━━━━━━━━━━━━━━━━━━\u001B[0m\u001B[37m\u001B[0m \u001B[1m16s\u001B[0m 160ms/step - ae_loss: 1.0000 - d_loss: 0.0000e+00\n",
      "Epoch 21/30\n",
      "\u001B[1m100/100\u001B[0m \u001B[32m━━━━━━━━━━━━━━━━━━━━\u001B[0m\u001B[37m\u001B[0m \u001B[1m16s\u001B[0m 163ms/step - ae_loss: 1.0000 - d_loss: 0.0000e+00\n",
      "Epoch 22/30\n",
      "\u001B[1m100/100\u001B[0m \u001B[32m━━━━━━━━━━━━━━━━━━━━\u001B[0m\u001B[37m\u001B[0m \u001B[1m16s\u001B[0m 160ms/step - ae_loss: 1.0000 - d_loss: 0.0000e+00\n",
      "Epoch 23/30\n",
      "\u001B[1m100/100\u001B[0m \u001B[32m━━━━━━━━━━━━━━━━━━━━\u001B[0m\u001B[37m\u001B[0m \u001B[1m16s\u001B[0m 156ms/step - ae_loss: 1.0000 - d_loss: 0.0000e+00\n",
      "Epoch 24/30\n",
      "\u001B[1m100/100\u001B[0m \u001B[32m━━━━━━━━━━━━━━━━━━━━\u001B[0m\u001B[37m\u001B[0m \u001B[1m16s\u001B[0m 161ms/step - ae_loss: 1.0000 - d_loss: 0.0000e+00\n",
      "Epoch 25/30\n",
      "\u001B[1m100/100\u001B[0m \u001B[32m━━━━━━━━━━━━━━━━━━━━\u001B[0m\u001B[37m\u001B[0m \u001B[1m16s\u001B[0m 155ms/step - ae_loss: 1.0000 - d_loss: 0.0000e+00\n",
      "Epoch 26/30\n",
      "\u001B[1m100/100\u001B[0m \u001B[32m━━━━━━━━━━━━━━━━━━━━\u001B[0m\u001B[37m\u001B[0m \u001B[1m16s\u001B[0m 160ms/step - ae_loss: 1.0000 - d_loss: 0.0000e+00\n",
      "Epoch 27/30\n",
      "\u001B[1m100/100\u001B[0m \u001B[32m━━━━━━━━━━━━━━━━━━━━\u001B[0m\u001B[37m\u001B[0m \u001B[1m16s\u001B[0m 162ms/step - ae_loss: 1.0000 - d_loss: 0.0000e+00\n",
      "Epoch 28/30\n",
      "\u001B[1m100/100\u001B[0m \u001B[32m━━━━━━━━━━━━━━━━━━━━\u001B[0m\u001B[37m\u001B[0m \u001B[1m16s\u001B[0m 161ms/step - ae_loss: 1.0000 - d_loss: 0.0000e+00\n",
      "Epoch 29/30\n",
      "\u001B[1m100/100\u001B[0m \u001B[32m━━━━━━━━━━━━━━━━━━━━\u001B[0m\u001B[37m\u001B[0m \u001B[1m16s\u001B[0m 162ms/step - ae_loss: 1.0000 - d_loss: 0.0000e+00\n",
      "Epoch 30/30\n",
      "\u001B[1m100/100\u001B[0m \u001B[32m━━━━━━━━━━━━━━━━━━━━\u001B[0m\u001B[37m\u001B[0m \u001B[1m16s\u001B[0m 165ms/step - ae_loss: 1.0000 - d_loss: 0.0000e+00\n"
     ]
    },
    {
     "data": {
      "text/plain": [
       "\u001B[1mModel: \"adversarial_auto_encoder_8\"\u001B[0m\n"
      ],
      "text/html": [
       "<pre style=\"white-space:pre;overflow-x:auto;line-height:normal;font-family:Menlo,'DejaVu Sans Mono',consolas,'Courier New',monospace\"><span style=\"font-weight: bold\">Model: \"adversarial_auto_encoder_8\"</span>\n",
       "</pre>\n"
      ]
     },
     "metadata": {},
     "output_type": "display_data"
    },
    {
     "data": {
      "text/plain": [
       "┏━━━━━━━━━━━━━━━━━━━━━━━━━━━━━━━━━┳━━━━━━━━━━━━━━━━━━━━━━━━┳━━━━━━━━━━━━━━━┓\n",
       "┃\u001B[1m \u001B[0m\u001B[1mLayer (type)                   \u001B[0m\u001B[1m \u001B[0m┃\u001B[1m \u001B[0m\u001B[1mOutput Shape          \u001B[0m\u001B[1m \u001B[0m┃\u001B[1m \u001B[0m\u001B[1m      Param #\u001B[0m\u001B[1m \u001B[0m┃\n",
       "┡━━━━━━━━━━━━━━━━━━━━━━━━━━━━━━━━━╇━━━━━━━━━━━━━━━━━━━━━━━━╇━━━━━━━━━━━━━━━┩\n",
       "│ auto_encoder_13 (\u001B[38;5;33mAutoEncoder\u001B[0m)   │ ?                      │   \u001B[38;5;34m0\u001B[0m (unbuilt) │\n",
       "├─────────────────────────────────┼────────────────────────┼───────────────┤\n",
       "│ discriminator_12                │ ?                      │   \u001B[38;5;34m0\u001B[0m (unbuilt) │\n",
       "│ (\u001B[38;5;33mDiscriminator\u001B[0m)                 │                        │               │\n",
       "└─────────────────────────────────┴────────────────────────┴───────────────┘\n"
      ],
      "text/html": [
       "<pre style=\"white-space:pre;overflow-x:auto;line-height:normal;font-family:Menlo,'DejaVu Sans Mono',consolas,'Courier New',monospace\">┏━━━━━━━━━━━━━━━━━━━━━━━━━━━━━━━━━┳━━━━━━━━━━━━━━━━━━━━━━━━┳━━━━━━━━━━━━━━━┓\n",
       "┃<span style=\"font-weight: bold\"> Layer (type)                    </span>┃<span style=\"font-weight: bold\"> Output Shape           </span>┃<span style=\"font-weight: bold\">       Param # </span>┃\n",
       "┡━━━━━━━━━━━━━━━━━━━━━━━━━━━━━━━━━╇━━━━━━━━━━━━━━━━━━━━━━━━╇━━━━━━━━━━━━━━━┩\n",
       "│ auto_encoder_13 (<span style=\"color: #0087ff; text-decoration-color: #0087ff\">AutoEncoder</span>)   │ ?                      │   <span style=\"color: #00af00; text-decoration-color: #00af00\">0</span> (unbuilt) │\n",
       "├─────────────────────────────────┼────────────────────────┼───────────────┤\n",
       "│ discriminator_12                │ ?                      │   <span style=\"color: #00af00; text-decoration-color: #00af00\">0</span> (unbuilt) │\n",
       "│ (<span style=\"color: #0087ff; text-decoration-color: #0087ff\">Discriminator</span>)                 │                        │               │\n",
       "└─────────────────────────────────┴────────────────────────┴───────────────┘\n",
       "</pre>\n"
      ]
     },
     "metadata": {},
     "output_type": "display_data"
    },
    {
     "data": {
      "text/plain": [
       "\u001B[1m Total params: \u001B[0m\u001B[38;5;34m1,778,051\u001B[0m (6.78 MB)\n"
      ],
      "text/html": [
       "<pre style=\"white-space:pre;overflow-x:auto;line-height:normal;font-family:Menlo,'DejaVu Sans Mono',consolas,'Courier New',monospace\"><span style=\"font-weight: bold\"> Total params: </span><span style=\"color: #00af00; text-decoration-color: #00af00\">1,778,051</span> (6.78 MB)\n",
       "</pre>\n"
      ]
     },
     "metadata": {},
     "output_type": "display_data"
    },
    {
     "data": {
      "text/plain": [
       "\u001B[1m Trainable params: \u001B[0m\u001B[38;5;34m1,775,371\u001B[0m (6.77 MB)\n"
      ],
      "text/html": [
       "<pre style=\"white-space:pre;overflow-x:auto;line-height:normal;font-family:Menlo,'DejaVu Sans Mono',consolas,'Courier New',monospace\"><span style=\"font-weight: bold\"> Trainable params: </span><span style=\"color: #00af00; text-decoration-color: #00af00\">1,775,371</span> (6.77 MB)\n",
       "</pre>\n"
      ]
     },
     "metadata": {},
     "output_type": "display_data"
    },
    {
     "data": {
      "text/plain": [
       "\u001B[1m Non-trainable params: \u001B[0m\u001B[38;5;34m2,680\u001B[0m (10.47 KB)\n"
      ],
      "text/html": [
       "<pre style=\"white-space:pre;overflow-x:auto;line-height:normal;font-family:Menlo,'DejaVu Sans Mono',consolas,'Courier New',monospace\"><span style=\"font-weight: bold\"> Non-trainable params: </span><span style=\"color: #00af00; text-decoration-color: #00af00\">2,680</span> (10.47 KB)\n",
       "</pre>\n"
      ]
     },
     "metadata": {},
     "output_type": "display_data"
    }
   ],
   "execution_count": 50
  },
  {
   "metadata": {
    "ExecuteTime": {
     "end_time": "2024-06-19T22:03:40.618012Z",
     "start_time": "2024-06-19T22:03:13.334761Z"
    }
   },
   "cell_type": "code",
   "source": [
    "start_time = time()\n",
    "normal_reconstructions = aae.autoencoder.predict(train_data)\n",
    "end_time = time()\n",
    "print(f'Time taken to reconstruct: {end_time - start_time}')\n",
    "\n",
    "sample_inside_window = 4  # from 0 to WINDOW_SIZE\n",
    "window_number = 38000  # from 0 to the number of windows created\n",
    "\n",
    "# Plot the reconstruction error for each feature\n",
    "plt.plot(train_data[window_number, :, sample_inside_window], 'b')\n",
    "plt.plot(normal_reconstructions[window_number, :, sample_inside_window], 'r')\n",
    "plt.fill_between(np.arange(86), normal_reconstructions[window_number, :, sample_inside_window],\n",
    "                 train_data[window_number, :, sample_inside_window], color='lightcoral')\n",
    "plt.legend(labels=[\"Input\", \"Reconstruction\", \"Error\"])\n",
    "plt.show()"
   ],
   "id": "72d7949013a5f37c",
   "outputs": [
    {
     "name": "stdout",
     "output_type": "stream",
     "text": [
      "\u001B[1m7306/7306\u001B[0m \u001B[32m━━━━━━━━━━━━━━━━━━━━\u001B[0m\u001B[37m\u001B[0m \u001B[1m25s\u001B[0m 3ms/step\n",
      "Time taken to reconstruct: 27.18940496444702\n"
     ]
    },
    {
     "data": {
      "text/plain": [
       "<Figure size 640x480 with 1 Axes>"
      ],
      "image/png": "[encoded data removed]"
     },
     "metadata": {},
     "output_type": "display_data"
    }
   ],
   "execution_count": 52
  },
  {
   "metadata": {
    "ExecuteTime": {
     "end_time": "2024-06-19T22:05:26.464595Z",
     "start_time": "2024-06-19T22:05:26.462017Z"
    }
   },
   "cell_type": "code",
   "source": [
    "def predict_discriminator(aae, data):\n",
    "  rec = aae.autoencoder(data)\n",
    "  output = aae.discriminator(rec)\n",
    "  return output"
   ],
   "id": "10662f991f58d72",
   "outputs": [],
   "execution_count": 53
  },
  {
   "metadata": {
    "ExecuteTime": {
     "end_time": "2024-06-19T22:09:32.229425Z",
     "start_time": "2024-06-19T22:09:30.969656Z"
    }
   },
   "cell_type": "code",
   "source": [
    "preds = predict_discriminator(aae, test_data)\n",
    "# print(preds.numpy().ravel())\n",
    "print_stats(np.bitwise_not(preds.numpy().ravel().astype(bool)), np.ones_like(preds.numpy().ravel()))"
   ],
   "id": "910cdeb2feb7405b",
   "outputs": [
    {
     "name": "stdout",
     "output_type": "stream",
     "text": [
      "Accuracy = 1.0\n",
      "Precision = 1.0\n",
      "Recall = 1.0\n",
      "F1 = 1.0\n"
     ]
    }
   ],
   "execution_count": 63
  }
 ],
 "metadata": {
  "kernelspec": {
   "display_name": "Python 3",
   "language": "python",
   "name": "python3"
  },
  "language_info": {
   "codemirror_mode": {
    "name": "ipython",
    "version": 2
   },
   "file_extension": ".py",
   "mimetype": "text/x-python",
   "name": "python",
   "nbconvert_exporter": "python",
   "pygments_lexer": "ipython2",
   "version": "2.7.6"
  }
 },
 "nbformat": 4,
 "nbformat_minor": 5
}
